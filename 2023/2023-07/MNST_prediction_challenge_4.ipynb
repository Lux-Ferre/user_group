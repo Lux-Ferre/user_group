{
 "cells": [
  {
   "cell_type": "code",
   "execution_count": 1,
   "id": "845d5354",
   "metadata": {},
   "outputs": [
    {
     "name": "stdout",
     "output_type": "stream",
     "text": [
      "PyTorch version:  2.0.1\n",
      "torchvision version:  0.15.2\n"
     ]
    }
   ],
   "source": [
    "%matplotlib inline\n",
    "import cv2\n",
    "import torch\n",
    "import torchvision\n",
    "import torch.nn as nn\n",
    "import torch.nn.functional as F\n",
    "from torchvision.transforms import transforms\n",
    "import matplotlib.pyplot as plt\n",
    "\n",
    "# Checks the version of PyTorch and torchvision\n",
    "print(\"PyTorch version: \",torch.__version__)\n",
    "print(\"torchvision version: \", torchvision.__version__)"
   ]
  },
  {
   "cell_type": "markdown",
   "id": "8d451c6f",
   "metadata": {},
   "source": [
    "# Coding Challenge 4\n",
    "\n",
    "Load your saved CNN model weights file to the Jupyter/Colab Notebook. Make a prediction with your trained CNN model on the test image provided image_of_a_zero.png. The test image has never seen the CNN model before. Did the CNN model classify the image to class 0 correctly?"
   ]
  },
  {
   "cell_type": "code",
   "execution_count": null,
   "id": "51d6de8a",
   "metadata": {},
   "outputs": [],
   "source": []
  }
 ],
 "metadata": {
  "kernelspec": {
   "display_name": "Python 3 (ipykernel)",
   "language": "python",
   "name": "python3"
  },
  "language_info": {
   "codemirror_mode": {
    "name": "ipython",
    "version": 3
   },
   "file_extension": ".py",
   "mimetype": "text/x-python",
   "name": "python",
   "nbconvert_exporter": "python",
   "pygments_lexer": "ipython3",
   "version": "3.9.13"
  }
 },
 "nbformat": 4,
 "nbformat_minor": 5
}
