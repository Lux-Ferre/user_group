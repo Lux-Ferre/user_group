{
 "cells": [
  {
   "cell_type": "code",
   "execution_count": 1,
   "id": "845d5354",
   "metadata": {},
   "outputs": [
    {
     "name": "stdout",
     "output_type": "stream",
     "text": [
      "PyTorch version:  1.13.1\n",
      "torchvision version:  0.14.1\n"
     ]
    }
   ],
   "source": [
    "%matplotlib inline\n",
    "import cv2\n",
    "import torch\n",
    "import torchvision\n",
    "import torch.nn as nn\n",
    "import torch.nn.functional as F\n",
    "from torchvision.transforms import transforms\n",
    "import matplotlib.pyplot as plt\n",
    "\n",
    "# Checks the version of PyTorch and torchvision\n",
    "print(\"PyTorch version: \",torch.__version__)\n",
    "print(\"torchvision version: \", torchvision.__version__)"
   ]
  },
  {
   "cell_type": "markdown",
   "id": "8d451c6f",
   "metadata": {},
   "source": [
    "# Coding Challenge 4\n",
    "\n",
    "Load your saved CNN model weights file to the Jupyter/Colab Notebook. Make a prediction with your trained CNN model on the test image provided image_of_a_zero.png. The test image has never seen the CNN model before. Did the CNN model classify the image to class 0 correctly?"
   ]
  },
  {
   "cell_type": "code",
   "execution_count": 11,
   "id": "e0360923",
   "metadata": {},
   "outputs": [],
   "source": [
    "# PyTorch CNN object to define the neural netork architecture\n",
    "class CNN(nn.Module):\n",
    "    \n",
    "    # Constructs the CNN object\n",
    "    def __init__(self):\n",
    "        super().__init__()\n",
    "        \n",
    "        # Convolutiona input layer\n",
    "        self.conv1 = nn.Conv2d(in_channels=1,out_channels=6,kernel_size=3,stride=1)\n",
    "        \n",
    "        # Convolutional hidden layer 1\n",
    "        self.conv2 = nn.Conv2d(in_channels=6,out_channels=16,kernel_size=3,stride=1)\n",
    "        \n",
    "        # Fully connected hidden layer 2\n",
    "        self.fc1 = nn.Linear(in_features=5*5*16,out_features=120)\n",
    "        \n",
    "        # Fully connected hidden layer 3\n",
    "        self.fc2 = nn.Linear(in_features=120,out_features=84)\n",
    "        \n",
    "        # Fully connected output layer\n",
    "        self.fc3 = nn.Linear(in_features=84,out_features=10)\n",
    "        \n",
    "    def forward(self, X):\n",
    "        \n",
    "        # Sequences the Convolutiona input layer\n",
    "        X = F.relu(self.conv1(X))\n",
    "        \n",
    "        # Creats a maxpooling layer to down samples the output of the input layer\n",
    "        X = F.max_pool2d(X, 2, 2)\n",
    "        \n",
    "        # ReLU activcation function to apply non linearity\n",
    "        X = F.relu(self.conv2(X))\n",
    "        X = F.max_pool2d(X, 2, 2)\n",
    "        \n",
    "        # Flattens the two dimensional compressed images to input to\n",
    "        # the first fully connected layer on the CNN model\n",
    "        X = X.view(-1, 5*5*16)\n",
    "        \n",
    "        # ReLU activcation function to apply non linearity after\n",
    "        # the calculaitns for the fully connected hidden layer 3\n",
    "        X = F.relu(self.fc1(X))\n",
    "        \n",
    "        # Dropout regularisation by 05 or 50% of the parameters inthe layer\n",
    "        X = F.dropout(X, p=0.5)\n",
    "        \n",
    "        # ReLU activcation function to apply non linearity after\n",
    "        # the calculaitns for the fully connected hidden layer 4\n",
    "        X = F.relu(self.fc2(X))\n",
    "        \n",
    "        # Sequences the output layer of the CNN model\n",
    "        X = self.fc3(X)\n",
    "        \n",
    "        # Returns the output probabilty scores from the softmax\n",
    "        # activation function to classify an image to a class label\n",
    "        return F.log_softmax(X, dim=1)"
   ]
  },
  {
   "cell_type": "code",
   "execution_count": 12,
   "id": "51d6de8a",
   "metadata": {},
   "outputs": [],
   "source": [
    "model = torch.load(\"./CNNmodels/CNN-8-001\")"
   ]
  },
  {
   "cell_type": "code",
   "execution_count": null,
   "id": "e4bc11aa",
   "metadata": {},
   "outputs": [],
   "source": []
  },
  {
   "cell_type": "code",
   "execution_count": null,
   "id": "ef8a29da",
   "metadata": {},
   "outputs": [],
   "source": []
  }
 ],
 "metadata": {
  "kernelspec": {
   "display_name": "Python 3",
   "language": "python",
   "name": "python3"
  },
  "language_info": {
   "codemirror_mode": {
    "name": "ipython",
    "version": 3
   },
   "file_extension": ".py",
   "mimetype": "text/x-python",
   "name": "python",
   "nbconvert_exporter": "python",
   "pygments_lexer": "ipython3",
   "version": "3.7.4"
  }
 },
 "nbformat": 4,
 "nbformat_minor": 5
}
