{
 "cells": [
  {
   "cell_type": "code",
   "execution_count": null,
   "metadata": {},
   "outputs": [],
   "source": [
    "import random"
   ]
  },
  {
   "cell_type": "code",
   "execution_count": null,
   "metadata": {},
   "outputs": [],
   "source": [
    "from IPython.display import clear_output"
   ]
  },
  {
   "cell_type": "code",
   "execution_count": null,
   "metadata": {},
   "outputs": [],
   "source": [
    "def choose_word(minimum_length, maximum_length):\n",
    "    words = []\n",
    "    with open(\"google-10000-english-no-swears.txt\") as file:\n",
    "        for line in file:\n",
    "            line = line.strip()\n",
    "            if minimum_length <= len(line) <= maximum_length:\n",
    "                words.append(line)\n",
    "    word = random.choice(words)\n",
    "    return word, ['_'] * len(word)"
   ]
  },
  {
   "cell_type": "code",
   "execution_count": null,
   "metadata": {},
   "outputs": [],
   "source": [
    "word, state = choose_word(5, 11)\n",
    "guesses = set()\n",
    "lives = 11\n",
    "\n",
    "while '_' in state and lives > 0:\n",
    "    print(\"Lives :\", lives)\n",
    "    if len(guesses) > 0:\n",
    "        print(\"Guessed :\", \" \".join(guesses))\n",
    "    print(\" \".join(state))\n",
    "    letter = input(\"Input Letter :\")\n",
    "    if letter not in guesses:\n",
    "        if letter in word:\n",
    "            clear_output()\n",
    "            print(\"yay\")\n",
    "            for i, e in enumerate(word):\n",
    "                if letter == e:\n",
    "                    state[i] = letter\n",
    "        else:\n",
    "            clear_output()\n",
    "            print(\"nope\")\n",
    "            lives -= 1\n",
    "    else:\n",
    "        clear_output()\n",
    "        print(\"You already guessed that!\")\n",
    "    guesses.add(letter)\n",
    "\n",
    "clear_output()\n",
    "print(\"The word was :\", word)\n",
    "if lives == 0:\n",
    "    print(\"YOU DIED - GIT GUD\")\n",
    "else:\n",
    "    print(\"You were lucky this time!\")"
   ]
  }
 ],
 "metadata": {
  "kernelspec": {
   "display_name": "Python 3",
   "language": "python",
   "name": "python3"
  },
  "language_info": {
   "codemirror_mode": {
    "name": "ipython",
    "version": 3
   },
   "file_extension": ".py",
   "mimetype": "text/x-python",
   "name": "python",
   "nbconvert_exporter": "python",
   "pygments_lexer": "ipython3",
   "version": "3.7.3"
  }
 },
 "nbformat": 4,
 "nbformat_minor": 4
}
