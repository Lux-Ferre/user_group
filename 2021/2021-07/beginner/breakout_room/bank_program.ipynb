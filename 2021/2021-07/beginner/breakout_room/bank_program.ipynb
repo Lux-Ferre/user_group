{
 "cells": [
  {
   "cell_type": "code",
   "execution_count": null,
   "metadata": {},
   "outputs": [],
   "source": [
    "users = {\n",
    "    'Alice' : 400,\n",
    "    'Bob' : 1500,\n",
    "    'Carol' : 21000\n",
    "}"
   ]
  },
  {
   "cell_type": "code",
   "execution_count": null,
   "metadata": {},
   "outputs": [],
   "source": [
    "def read_integer(prompt):\n",
    "    while True:\n",
    "        try:\n",
    "            text = input(prompt)\n",
    "            integer = int(text)\n",
    "            if integer <= 0:\n",
    "                print('Error: Positive Integer Required')\n",
    "            else:\n",
    "                return integer\n",
    "        except ValueError:\n",
    "            print('Error: Positive Integer Required')"
   ]
  },
  {
   "cell_type": "code",
   "execution_count": null,
   "metadata": {},
   "outputs": [],
   "source": [
    "def read_option(prompt, num_options):\n",
    "    while True:\n",
    "        value = read_integer(prompt)\n",
    "        if value <= num_options:\n",
    "            return value\n",
    "        print(f'Error: options are 1 to {num_options}')"
   ]
  },
  {
   "cell_type": "code",
   "execution_count": null,
   "metadata": {},
   "outputs": [],
   "source": [
    "def check_balance():\n",
    "    name = input('Input Name:')\n",
    "    if name in users:\n",
    "        balance = users[name]\n",
    "        print(f'Balance of {name} is {balance}')\n",
    "    else:\n",
    "        print(f'Error: User \"{name}\" was not found')"
   ]
  },
  {
   "cell_type": "code",
   "execution_count": null,
   "metadata": {},
   "outputs": [],
   "source": [
    "def withdraw():\n",
    "    name = input('Input Name:')\n",
    "    if name in users:\n",
    "        existing_balance = users[name]\n",
    "        withdrawl_amount = read_integer('Enter withdrawl amount:')\n",
    "        new_balance = existing_balance - withdrawl_amount\n",
    "        if new_balance >= 0:\n",
    "            print(f'The new balance is {new_balance}')\n",
    "            users[name] = new_balance\n",
    "        else:\n",
    "            print('Error: Insufficient funds!')\n",
    "    else:\n",
    "        print(f'Error: User \"{name}\" was not found')"
   ]
  },
  {
   "cell_type": "code",
   "execution_count": null,
   "metadata": {},
   "outputs": [],
   "source": [
    "def transfer():\n",
    "    name_from = input('Input Name to Transfer From:')\n",
    "    if name_from in users:\n",
    "        name_to = input('Input Name to Transfer To:')\n",
    "        if name_to in users:\n",
    "            transfer_amount = read_integer('Enter transfer amount:')\n",
    "            existing_balance_from = users[name_from]\n",
    "            existing_balance_to = users[name_to]\n",
    "            if existing_balance_from >= transfer_amount:\n",
    "                new_balance_to = existing_balance_to + transfer_amount\n",
    "                new_balance_from = existing_balance_from - transfer_amount\n",
    "                users[name_to] = new_balance_to\n",
    "                users[name_from] = new_balance_from\n",
    "            else:\n",
    "                print('Error: Insufficient funds!')\n",
    "        else:\n",
    "            print(f'Error: User \"{name_to}\" was not found')\n",
    "    else:\n",
    "        print(f'Error: User \"{name_from}\" was not found')"
   ]
  },
  {
   "cell_type": "code",
   "execution_count": null,
   "metadata": {},
   "outputs": [],
   "source": [
    "try:\n",
    "    exit = False\n",
    "    print('Welcome to the bank system')\n",
    "    while not exit:\n",
    "        print()\n",
    "        print('1 - Check Balance')\n",
    "        print('2 - Withdraw')\n",
    "        print('3 - Transfer')\n",
    "        print('4 - Exit')\n",
    "        option = read_option(\"Select Option:\", 4)\n",
    "        if option == 1:\n",
    "            check_balance()\n",
    "        if option == 2:\n",
    "            withdraw()\n",
    "        if option == 3:\n",
    "            transfer()\n",
    "        if option == 4:\n",
    "            exit = True\n",
    "except KeyboardInterrupt:\n",
    "    pass\n",
    "print()\n",
    "print('Goodbye!')"
   ]
  }
 ],
 "metadata": {
  "kernelspec": {
   "display_name": "Python 3",
   "language": "python",
   "name": "python3"
  },
  "language_info": {
   "codemirror_mode": {
    "name": "ipython",
    "version": 3
   },
   "file_extension": ".py",
   "mimetype": "text/x-python",
   "name": "python",
   "nbconvert_exporter": "python",
   "pygments_lexer": "ipython3",
   "version": "3.9.0"
  }
 },
 "nbformat": 4,
 "nbformat_minor": 4
}
