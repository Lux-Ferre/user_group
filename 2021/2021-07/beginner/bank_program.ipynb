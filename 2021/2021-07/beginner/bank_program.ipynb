{
 "cells": [
  {
   "cell_type": "code",
   "execution_count": null,
   "metadata": {},
   "outputs": [],
   "source": [
    "users = {\n",
    "    'Alice' : 400,\n",
    "    'Bob' : 1500,\n",
    "    'Carol' : 21000\n",
    "}"
   ]
  },
  {
   "cell_type": "code",
   "execution_count": null,
   "metadata": {},
   "outputs": [],
   "source": [
    "def read_integer(prompt):\n",
    "    while True:\n",
    "        try:\n",
    "            text = input(prompt)\n",
    "            integer = int(text)\n",
    "            if integer <= 0:\n",
    "                print('Error: Positive Integer Required')\n",
    "            else:\n",
    "                return integer\n",
    "        except ValueError:\n",
    "            print('Error: Positive Integer Required')\n",
    "\n",
    "\n"
   ]
  },
  {
   "cell_type": "code",
   "execution_count": null,
   "metadata": {},
   "outputs": [],
   "source": [
    "def read_option(prompt, num_options):\n",
    "    while True:\n",
    "        value = read_integer(prompt)\n",
    "        if value <= num_options:\n",
    "            return value\n",
    "        print(f'Error: options are 1 to {num_options}')"
   ]
  },
  {
   "cell_type": "code",
   "execution_count": null,
   "metadata": {},
   "outputs": [],
   "source": [
    "def check_balance():\n",
    "    name = input('Input Name:')\n",
    "    if name in users:\n",
    "        balance = users[name]\n",
    "        print(f'Balance of {name} is {balance}')\n",
    "    else:\n",
    "        print(f'Error: User \"{name}\" was not found')"
   ]
  },
  {
   "cell_type": "code",
   "execution_count": null,
   "metadata": {},
   "outputs": [],
   "source": [
    "try:\n",
    "    exit = False\n",
    "    print('Welcome to the bank system')\n",
    "    while not exit:\n",
    "        print()\n",
    "        print('1 - Check Balance')\n",
    "        print('2 - Exit')\n",
    "        option = read_option(\"Select Option:\", 2)\n",
    "        if option == 1:\n",
    "            check_balance()\n",
    "        if option == 2:\n",
    "            exit = True\n",
    "except KeyboardInterrupt:\n",
    "    pass\n",
    "print()\n",
    "print('Goodbye!')"
   ]
  }
 ],
 "metadata": {
  "kernelspec": {
   "display_name": "Python 3",
   "language": "python",
   "name": "python3"
  },
  "language_info": {
   "codemirror_mode": {
    "name": "ipython",
    "version": 3
   },
   "file_extension": ".py",
   "mimetype": "text/x-python",
   "name": "python",
   "nbconvert_exporter": "python",
   "pygments_lexer": "ipython3",
   "version": "3.9.0"
  }
 },
 "nbformat": 4,
 "nbformat_minor": 4
}
