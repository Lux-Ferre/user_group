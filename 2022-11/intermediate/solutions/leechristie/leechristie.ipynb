{
 "cells": [
  {
   "cell_type": "code",
   "execution_count": null,
   "metadata": {
    "collapsed": true
   },
   "outputs": [],
   "source": [
    "import re\n",
    "import tqdm.notebook as tqdm\n",
    "import pandas as pd\n",
    "\n",
    "path = '../../fake_client_data.csv'\n",
    "\n",
    "c = 0\n",
    "with open(path) as file:\n",
    "    for line in file:\n",
    "        if c == 1:\n",
    "            break\n",
    "        c += 1\n",
    "\n",
    "line = str(line)\n",
    "print(line)"
   ]
  },
  {
   "cell_type": "code",
   "execution_count": null,
   "outputs": [],
   "source": [
    "# TODO: not quite done yet\n",
    "pattern = re.compile(r'^(\\d*)\\s*(\\w*)\\s*(\\w*)\\s*([\\w]*@\\w*[\\.]\\w*)\\s*([A-za-z]*)\\s*(\\d{0,3}\\.\\d{0,3}\\.\\d{0,3}\\.\\d{0,3})\\s+(\\d*[-\\s]*\\d*)')"
   ],
   "metadata": {
    "collapsed": false
   }
  },
  {
   "cell_type": "code",
   "execution_count": null,
   "outputs": [],
   "source": [
    "result = []\n",
    "\n",
    "count = 0\n",
    "with open(path) as file:\n",
    "    for line in file:\n",
    "        count += 1\n",
    "\n",
    "c = 0\n",
    "with open(path) as file:\n",
    "    for line in tqdm.tqdm(file, total=count):\n",
    "        if c > 0:\n",
    "            result.extend(pattern.findall(line.strip()))\n",
    "        c += 1\n",
    "\n",
    "cols = {f'Column {i}': [] for i in range(len(result[0]))}\n",
    "\n",
    "for line in result:\n",
    "    for i, e in enumerate(line):\n",
    "        cols[f'Column {i}'].append(e)\n",
    "\n",
    "pd.DataFrame(data=cols)"
   ],
   "metadata": {
    "collapsed": false
   }
  },
  {
   "cell_type": "code",
   "execution_count": null,
   "outputs": [],
   "source": [],
   "metadata": {
    "collapsed": false
   }
  }
 ],
 "metadata": {
  "kernelspec": {
   "display_name": "Python 3",
   "language": "python",
   "name": "python3"
  },
  "language_info": {
   "codemirror_mode": {
    "name": "ipython",
    "version": 2
   },
   "file_extension": ".py",
   "mimetype": "text/x-python",
   "name": "python",
   "nbconvert_exporter": "python",
   "pygments_lexer": "ipython2",
   "version": "2.7.6"
  }
 },
 "nbformat": 4,
 "nbformat_minor": 0
}
