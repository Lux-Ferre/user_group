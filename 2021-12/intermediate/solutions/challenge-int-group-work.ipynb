{
 "cells": [
  {
   "cell_type": "markdown",
   "id": "5bd68df9-32ba-4bf7-a72c-b7a42b270231",
   "metadata": {},
   "source": [
    "# APUG December 2021 Intermediate Challenge\n",
    "\n",
    "To get you started, here is a template for a decorator which does not take arguments:\n",
    "\n",
    "    from functools import wraps\n",
    "\n",
    "    def my_decorator_name_goes_here(f):\n",
    "\n",
    "        @wraps(f)\n",
    "        def wrapper(*args, **kwargs):\n",
    "\n",
    "            ...\n",
    "            result = f(*args, **kwargs)\n",
    "            ...\n",
    "            return result\n",
    "\n",
    "        return wrapper\n",
    "\n",
    "And here is a template for a decorator which takes arguments:\n",
    "\n",
    "    from functools import wraps\n",
    "\n",
    "    def my_decorator_name_goes_here(...):\n",
    "\n",
    "        def decorator(f):\n",
    "\n",
    "            @wraps(f)\n",
    "            def wrapper(*args, **kwargs):\n",
    "\n",
    "                ...\n",
    "                result = f(*args, **kwargs)\n",
    "                ...\n",
    "                return result\n",
    "\n",
    "            return wrapper\n",
    "\n",
    "        return decorator"
   ]
  },
  {
   "cell_type": "markdown",
   "id": "7f52509b-6e53-42c8-9468-5101f1bc86c6",
   "metadata": {},
   "source": [
    "---\n",
    "\n",
    "## 1. Challenge 1\n",
    "\n",
    "Write a decorator `@cooler` which makes the return value of a function bigger by a given percentage.\n",
    "\n",
    "For example, `@cooler(10)` will cause the returned value to be 10% higher.\n",
    "\n",
    "### 1.1. Example Usage 1:\n",
    "\n",
    "    @cooler(10)\n",
    "    def answer():\n",
    "        return 42\n",
    "    \n",
    "    >>> answer()\n",
    "    46.2"
   ]
  },
  {
   "cell_type": "markdown",
   "id": "d4202100-5818-4aec-a311-d2e8a6e98dac",
   "metadata": {},
   "source": [
    "### 1.2. Solution"
   ]
  },
  {
   "cell_type": "code",
   "execution_count": 3,
   "id": "b747a375-8576-4f47-a4a1-41fb97feb4c5",
   "metadata": {},
   "outputs": [],
   "source": [
    "from functools import wraps\n",
    "\n",
    "def cooler(n):\n",
    "\n",
    "    def decorator(f):\n",
    "\n",
    "        @wraps(f)\n",
    "        def wrapper(*args, **kwargs):\n",
    "\n",
    "            result = f(*args, **kwargs)\n",
    "            increased = result + n/100 * result\n",
    "            return increased\n",
    "\n",
    "        return wrapper\n",
    "    \n",
    "    return decorator"
   ]
  },
  {
   "cell_type": "markdown",
   "id": "5f319c79-b821-475c-9e8f-ddb2f4b6d4c6",
   "metadata": {},
   "source": [
    "### 1.3. Example Test Cases"
   ]
  },
  {
   "cell_type": "code",
   "execution_count": 7,
   "id": "6633fd2f-b8a2-481b-bc97-0a60884398ef",
   "metadata": {},
   "outputs": [
    {
     "data": {
      "text/plain": [
       "46.2"
      ]
     },
     "execution_count": 7,
     "metadata": {},
     "output_type": "execute_result"
    }
   ],
   "source": [
    "@cooler(10)\n",
    "def answer():\n",
    "    return 42\n",
    "\n",
    "answer()"
   ]
  },
  {
   "cell_type": "markdown",
   "id": "6bfccd6d-3e6a-484c-a6f0-a807d165046e",
   "metadata": {
    "tags": []
   },
   "source": [
    "---\n",
    "\n",
    "## 2. Challenge 2 - Argument Replacer\n",
    "\n",
    "Write a decorator `@replace_arg` which itself takes 2 arguments called `position` and `new_value`.\n",
    "\n",
    "- `position` - the index (starting at 0) to replace\n",
    "- `new_value` - the new value use\n",
    "\n",
    "The decorator will wrap any function (any number of inputs) and when the function is called will replace the specified argument.\n",
    "\n",
    "### 2.1. Example Usage 1:\n",
    "\n",
    "The value given by the user for the first argument will be ignored and replaced by `21`.\n",
    "    \n",
    "    @replace_arg(position=0, new_value=21)\n",
    "    def multiply(a, b):\n",
    "        return a * b\n",
    "        \n",
    "    >>> multiply(10, 2)\n",
    "    42\n",
    "\n",
    "### 2.2. Example Usage 2:\n",
    "\n",
    "The value given by the user for the third argument will be ignored and replaced by `'dogecoin'`.\n",
    "\n",
    "    @replace_arg(position=2, new_value='dogecoin')\n",
    "    def order(order_type, size, currency, price):\n",
    "        print(f'Placing {order_type} for {size} {currency} at ${price}')\n",
    "        \n",
    "    >>> order('buy', 10, 'bitcoin', 40000)\n",
    "    Placing buy for 10 dogecoin at $40000"
   ]
  },
  {
   "cell_type": "markdown",
   "id": "b4b756ac-b06f-4690-814f-340861d19e26",
   "metadata": {},
   "source": [
    "### 2.3. Solution"
   ]
  },
  {
   "cell_type": "code",
   "execution_count": 13,
   "id": "1eb7ba16-d154-4f6c-abd9-863d554c0eef",
   "metadata": {},
   "outputs": [],
   "source": [
    "from functools import wraps\n",
    "\n",
    "def replace_arg(position, new_value):\n",
    "\n",
    "    def decorator(f):\n",
    "\n",
    "        @wraps(f)\n",
    "        def wrapper(*args):\n",
    "\n",
    "            l = list(args)\n",
    "            l[position] = new_value\n",
    "            result = f(*l)\n",
    "            return result\n",
    "\n",
    "        return wrapper\n",
    "\n",
    "    return decorator"
   ]
  },
  {
   "cell_type": "markdown",
   "id": "1cca407f-0f0c-4593-96e0-3b56ceb02563",
   "metadata": {},
   "source": [
    "### 2.4. Example Test Cases"
   ]
  },
  {
   "cell_type": "code",
   "execution_count": 14,
   "id": "59a127a8-bc79-4dd4-8317-ba6b87a580a9",
   "metadata": {},
   "outputs": [
    {
     "data": {
      "text/plain": [
       "42"
      ]
     },
     "execution_count": 14,
     "metadata": {},
     "output_type": "execute_result"
    }
   ],
   "source": [
    "@replace_arg(position=0, new_value=21)\n",
    "def multiply(a, b):\n",
    "    return a * b\n",
    "\n",
    "multiply(10, 2)"
   ]
  },
  {
   "cell_type": "code",
   "execution_count": 15,
   "id": "601865e2-dd72-4837-b02d-bd06cb0543f2",
   "metadata": {},
   "outputs": [
    {
     "name": "stdout",
     "output_type": "stream",
     "text": [
      "Placing buy for 10 dogecoin at $40000\n"
     ]
    }
   ],
   "source": [
    "@replace_arg(position=2, new_value='dogecoin')\n",
    "def order(order_type, size, currency, price):\n",
    "    print(f'Placing {order_type} for {size} {currency} at ${price}')\n",
    "    \n",
    "order('buy', 10, 'bitcoin', 40000)"
   ]
  },
  {
   "cell_type": "markdown",
   "id": "99442bdf-4fef-42bc-81b0-8bafe73edb8e",
   "metadata": {},
   "source": [
    "---\n",
    "\n",
    "## 3. Challenge 3\n",
    "\n",
    "Write a decorator `@multi` which gives a function of `2` arguments the ability to take a tuple of posibilities in each position and reeturns all combinations as a map.\n",
    "\n",
    "Further, write a decorator `@argmin` which can be added before `@multi` to return a set of only the tuples representing the minmimum value.\n",
    "\n",
    "### 3.1. Example Usage (`@multi`)\n",
    "\n",
    "    @multi\n",
    "    def add(x, y):\n",
    "        return x + y\n",
    "\n",
    "    >>> add((1, 3, 5, 7), (10, 100))\n",
    "    {(1, 10) : 11,\n",
    "     (1, 100) : 101,\n",
    "     (3, 10) : 13,\n",
    "     (3, 100) : 103,\n",
    "     (5, 10) : 15,\n",
    "     (5, 100) : 105,\n",
    "     (7, 10) : 17,\n",
    "     (7, 100) : 107}\n",
    "\n",
    "### 3.2. Example Usage (`@multi` and `@argmin`)\n",
    "\n",
    "The minimum value for the `mul` function with these arguments is `-20`, and there are two possible ways to make it given the possible listed argument values: `mul(-5, 4)` and `mul(5, -4)`.\n",
    "\n",
    "    @argmin\n",
    "    @multi\n",
    "    def mul(x, y):\n",
    "        return x * y\n",
    "    \n",
    "    >>> mul((-5, 0, 5), (4, -4))\n",
    "    {(-5, 4), (5, -4)}"
   ]
  },
  {
   "cell_type": "markdown",
   "id": "e9192fa1-f3d1-4b1f-a1c3-3e2809326388",
   "metadata": {},
   "source": [
    "### 3.2. Solution"
   ]
  },
  {
   "cell_type": "code",
   "execution_count": 28,
   "id": "7bd08ee8-eb2e-4800-9689-da3c0276c95a",
   "metadata": {},
   "outputs": [],
   "source": [
    "from functools import wraps\n",
    "\n",
    "\n",
    "def multi(f):\n",
    "\n",
    "    @wraps(f)\n",
    "    def wrapper(xs, ys):\n",
    "\n",
    "        return {(x, y) : f(x, y) for x in xs for y in ys}\n",
    "        \n",
    "        #result = {}\n",
    "        #for x in xs:\n",
    "        #    for y in ys:\n",
    "        #        result[(x, y)] = f(x, y)\n",
    "        #return result\n",
    "\n",
    "    return wrapper\n",
    "\n",
    "\n",
    "def argmin(f):\n",
    "\n",
    "    @wraps(f)\n",
    "    def wrapper(x, y):\n",
    "\n",
    "        result = f(x, y)\n",
    "        min_value = min(result.values())\n",
    "        return {key for key, value in result.items() if value == min_value}\n",
    "\n",
    "    return wrapper"
   ]
  },
  {
   "cell_type": "markdown",
   "id": "f409146f-56d1-4f7f-bb72-6eb71336a1b0",
   "metadata": {},
   "source": [
    "### 3.3. Example Test Cases"
   ]
  },
  {
   "cell_type": "code",
   "execution_count": 29,
   "id": "b4b804a1-f5a0-479c-ad2d-651551708066",
   "metadata": {},
   "outputs": [
    {
     "data": {
      "text/plain": [
       "{(1, 10): 11,\n",
       " (1, 100): 101,\n",
       " (3, 10): 13,\n",
       " (3, 100): 103,\n",
       " (5, 10): 15,\n",
       " (5, 100): 105,\n",
       " (7, 10): 17,\n",
       " (7, 100): 107}"
      ]
     },
     "execution_count": 29,
     "metadata": {},
     "output_type": "execute_result"
    }
   ],
   "source": [
    "@multi\n",
    "def add(x, y):\n",
    "    return x + y\n",
    "\n",
    "add((1, 3, 5, 7), (10, 100))"
   ]
  },
  {
   "cell_type": "code",
   "execution_count": 30,
   "id": "91f791ae-e898-40b7-ac30-cda140556ab9",
   "metadata": {},
   "outputs": [
    {
     "data": {
      "text/plain": [
       "{(-5, 4): -20, (-5, -4): 20, (0, 4): 0, (0, -4): 0, (5, 4): 20, (5, -4): -20}"
      ]
     },
     "execution_count": 30,
     "metadata": {},
     "output_type": "execute_result"
    }
   ],
   "source": [
    "@multi\n",
    "def mul(x, y):\n",
    "    return x * y\n",
    "\n",
    "mul((-5, 0, 5), (4, -4))"
   ]
  },
  {
   "cell_type": "code",
   "execution_count": 31,
   "id": "ac8e6193-049d-4a1a-8c92-6aa15ad89dd3",
   "metadata": {},
   "outputs": [
    {
     "data": {
      "text/plain": [
       "{(-5, 4), (5, -4)}"
      ]
     },
     "execution_count": 31,
     "metadata": {},
     "output_type": "execute_result"
    }
   ],
   "source": [
    "@argmin\n",
    "@multi\n",
    "def mul(x, y):\n",
    "    return x * y\n",
    "\n",
    "mul((-5, 0, 5), (4, -4))"
   ]
  },
  {
   "cell_type": "markdown",
   "id": "5e9dfa8e-cffe-4a37-8e5f-3b0763162716",
   "metadata": {},
   "source": [
    "---\n",
    "\n",
    "## 4. Bonus Challenges\n",
    "\n",
    "## 4.1. Bonus 1\n",
    "\n",
    "Write a version of `cooler` which takes an optional extra argument `plus` which adds to the result. e.g. this will add 10% of the origonal value, then add a further number 15.\n",
    "\n",
    "    @cooler(10, plus=15)\n",
    "\n",
    "## 4.2. Bonus 2\n",
    "\n",
    "Write a version of `replace_args` which takes a dictionary of named arguments to replace. e.g.\n",
    "\n",
    "    @replace_arg({'order_type' : 'sell', 'price' : 10})\n",
    "\n",
    "## 4.3. Bonus 3\n",
    "\n",
    "Write a version of `multi` which works on a function of any number of inputs instead of just 2.\n",
    "\n",
    "Use it to show that the arg min of\n",
    "\n",
    "    def my_funct(x, y, z):\n",
    "        return (x-15) ** 2 + (y-20) ** 2 + (z+4) ** 2\n",
    "\n",
    "for some range of possible input integers (say from -100 to +100) is\n",
    "\n",
    "    (15, 20, -4)"
   ]
  },
  {
   "cell_type": "code",
   "execution_count": 32,
   "id": "f9cd0b80-2b36-40d9-b78b-2387c81ef4e3",
   "metadata": {},
   "outputs": [],
   "source": [
    "from functools import wraps\n",
    "\n",
    "def cooler(n, plus=0):\n",
    "\n",
    "    def decorator(f):\n",
    "\n",
    "        @wraps(f)\n",
    "        def wrapper(*args, **kwargs):\n",
    "\n",
    "            result = f(*args, **kwargs)\n",
    "            increased = result + n/100 * result + plus\n",
    "            return increased\n",
    "\n",
    "        return wrapper\n",
    "    \n",
    "    return decorator"
   ]
  },
  {
   "cell_type": "code",
   "execution_count": 33,
   "id": "e573ebe5-5e75-4228-82e7-6b39e3a62018",
   "metadata": {},
   "outputs": [
    {
     "data": {
      "text/plain": [
       "61.2"
      ]
     },
     "execution_count": 33,
     "metadata": {},
     "output_type": "execute_result"
    }
   ],
   "source": [
    "@cooler(10, plus=15)\n",
    "def answer():\n",
    "    return 42\n",
    "\n",
    "answer()"
   ]
  },
  {
   "cell_type": "code",
   "execution_count": 40,
   "id": "48290179-8d01-4016-ac15-875258ee7a8f",
   "metadata": {},
   "outputs": [],
   "source": [
    "from functools import wraps\n",
    "\n",
    "def replace_arg(d):\n",
    "\n",
    "    def decorator(f):\n",
    "\n",
    "        @wraps(f)\n",
    "        def wrapper(**kwargs):\n",
    "            \n",
    "            #for k, v in d.items():\n",
    "            #    kwargs[k] = v\n",
    "            \n",
    "            kwargs.update(d)\n",
    "            \n",
    "            result = f(**kwargs)\n",
    "            return result\n",
    "\n",
    "        return wrapper\n",
    "\n",
    "    return decorator"
   ]
  },
  {
   "cell_type": "code",
   "execution_count": 41,
   "id": "a502b356-ad74-4354-8c1b-fc850bd13175",
   "metadata": {},
   "outputs": [
    {
     "name": "stdout",
     "output_type": "stream",
     "text": [
      "Placing sell for 10 bitcoin at $10\n"
     ]
    }
   ],
   "source": [
    "@replace_arg({'order_type' : 'sell', 'price' : 10})\n",
    "def order(order_type, size, currency, price):\n",
    "    print(f'Placing {order_type} for {size} {currency} at ${price}')\n",
    "    \n",
    "order(order_type='buy', size=10, currency='bitcoin', price=40000)"
   ]
  },
  {
   "cell_type": "code",
   "execution_count": null,
   "id": "93c537a6-058f-4e65-b288-d59d7959080d",
   "metadata": {},
   "outputs": [],
   "source": []
  }
 ],
 "metadata": {
  "kernelspec": {
   "display_name": "Python 3 (ipykernel)",
   "language": "python",
   "name": "python3"
  },
  "language_info": {
   "codemirror_mode": {
    "name": "ipython",
    "version": 3
   },
   "file_extension": ".py",
   "mimetype": "text/x-python",
   "name": "python",
   "nbconvert_exporter": "python",
   "pygments_lexer": "ipython3",
   "version": "3.10.0"
  }
 },
 "nbformat": 4,
 "nbformat_minor": 5
}
