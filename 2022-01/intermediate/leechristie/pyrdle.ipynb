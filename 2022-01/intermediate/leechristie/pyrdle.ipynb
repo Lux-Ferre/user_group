{
 "cells": [
  {
   "cell_type": "markdown",
   "id": "ef75a94a-7951-46a0-8cad-f7115349a6ba",
   "metadata": {},
   "source": [
    "# Pyrdle\n",
    "\n",
    "Challenge Attempt by [leechristie](https://github.com/leechristie)"
   ]
  },
  {
   "cell_type": "markdown",
   "id": "89bbc65f-e29a-4fc6-84ed-a2362bd3b051",
   "metadata": {},
   "source": [
    "## 1. Imports\n",
    "\n",
    "Module imports for project."
   ]
  },
  {
   "cell_type": "code",
   "execution_count": null,
   "id": "b27a4d86-534a-4bf6-933c-3f4e355cbe90",
   "metadata": {},
   "outputs": [],
   "source": [
    "import random\n",
    "from IPython.display import clear_output"
   ]
  },
  {
   "cell_type": "markdown",
   "id": "b35d2671-974e-45b7-ba0f-ce7a5876091f",
   "metadata": {},
   "source": [
    "## 2. Helper Methods\n",
    "\n",
    "Helper methods to implement functions in the game."
   ]
  },
  {
   "cell_type": "code",
   "execution_count": null,
   "id": "a52116ac-d140-4834-a18f-dfdd3a96abf4",
   "metadata": {},
   "outputs": [],
   "source": [
    "def load_words():\n",
    "    words = set()\n",
    "    with open('wordlist.txt') as file:\n",
    "        for line in file:\n",
    "            line = line.strip('\\r\\n')\n",
    "            words.add(line.lower())\n",
    "    return words, list(words)\n",
    "\n",
    "def pick_word(wordset):\n",
    "    return random.choice(wordset)\n",
    "    \n",
    "def prompt_again():\n",
    "    r = input('Play again? (y/n)')\n",
    "    while r.lower().strip() not in ('y', 'n'):\n",
    "        r = input('Play again? (y/n)')\n",
    "    return r == 'y'\n",
    "\n",
    "def looks_like_word(guess):\n",
    "    if len(guess) != 5:\n",
    "        return False\n",
    "    for c in guess:\n",
    "        if not ('a' <= c <= 'z'):\n",
    "            return False\n",
    "    return True\n",
    "\n",
    "def prompt_word(wordset, guess_must_be_in_dictionary):\n",
    "    r = input('Guess:')\n",
    "    if guess_must_be_in_dictionary:\n",
    "        while r.strip().lower() not in wordset:\n",
    "            print('GUESS NOT IN DICTIONARY!')\n",
    "            r = input('Guess:')\n",
    "    else:\n",
    "        while not looks_like_word(r):\n",
    "            print('GUESS DOES NOT LOOK LIKE A 5-LETTER WORD!')\n",
    "            r = input('Guess:')\n",
    "    return r\n",
    "\n",
    "def show(word, guess, symbols):\n",
    "    rv = ''\n",
    "    for index, character in enumerate(guess):\n",
    "        if word[index] == character:\n",
    "            rv += symbols[0]\n",
    "        elif character in word:\n",
    "            rv += symbols[1]\n",
    "        else:\n",
    "            rv += symbols[2]\n",
    "    print(rv)\n",
    "    return rv\n",
    "    \n",
    "def print_history(history):\n",
    "    print()\n",
    "    for line in history:\n",
    "        print(line)\n",
    "    print()\n",
    "    \n",
    "def play(wordset, wordlist, guess_must_be_in_dictionary=True, cheat=False, lives=6, symbols=None):\n",
    "    if symbols is None:\n",
    "        symbols = ['*', '+', '-']\n",
    "    word = None\n",
    "    try:\n",
    "        history = []\n",
    "        word = pick_word(wordlist)\n",
    "        if cheat:\n",
    "            print()\n",
    "            print('CHEAT MODE ENGAGED!')\n",
    "            print(f'ANSWER IS: {word}')\n",
    "            print('CHEAT MODE ENGAGED!')\n",
    "            print('-------------------')\n",
    "            print()\n",
    "        while lives > 0:\n",
    "            guess = prompt_word(wordset, guess_must_be_in_dictionary)\n",
    "            current = show(word, guess, symbols)\n",
    "            history.append(current)\n",
    "            if guess == word:\n",
    "                return True, history, word\n",
    "            lives -= 1\n",
    "        return False, history, word\n",
    "    except KeyboardInterrupt as e:\n",
    "        clear_output()\n",
    "        print('GAME TERMINATED')\n",
    "        if word is not None:\n",
    "            print(f'Word was: {word}')\n",
    "        raise e"
   ]
  },
  {
   "cell_type": "markdown",
   "id": "6b92fa94-8ea9-4e0b-bc7c-2b29fd6e50dd",
   "metadata": {},
   "source": [
    "## 3. Main Method\n",
    "\n",
    "Runs the game in a loop."
   ]
  },
  {
   "cell_type": "code",
   "execution_count": null,
   "id": "66fe3f92-c6cf-4b1e-977b-6373268e238e",
   "metadata": {},
   "outputs": [],
   "source": [
    "def main(guess_must_be_in_dictionary=True, cheat=False, lives=6, symbols=None):\n",
    "    wordset, wordlist = load_words()\n",
    "    again = True\n",
    "    word = None\n",
    "    try:\n",
    "        while again:\n",
    "            print('Welcome to Pyrdle!')\n",
    "            print()\n",
    "            win, history, word = play(wordset, wordlist, guess_must_be_in_dictionary, cheat, lives, symbols)\n",
    "            if win:\n",
    "                print('CONGRATULATIONS!!!!')\n",
    "            else:\n",
    "                print('BETTER LUCK NEXT TIME')\n",
    "                print(f'Word was: {word}')\n",
    "            print_history(history)\n",
    "            again = prompt_again()\n",
    "            clear_output()\n",
    "    except KeyboardInterrupt:\n",
    "        pass"
   ]
  },
  {
   "cell_type": "markdown",
   "id": "3496002e-c5e9-4364-a2ad-a4cb9efdaebd",
   "metadata": {},
   "source": [
    "## 4. Run\n",
    "\n",
    "To abandon the game, press `Stop` button in Jupyter or `CTRL-C`\n",
    "\n",
    "Set `cheat` to `True` if you want the word revealed at the start.\n",
    "\n",
    "Set `guess_must_be_in_dictionary` to `False` if you want to allow any guess even invalid words.\n",
    "\n",
    "Set `lives` to change the number of guesses allowed."
   ]
  },
  {
   "cell_type": "code",
   "execution_count": null,
   "id": "ec6bbdaf-c6f0-402a-9011-98e7d8146a77",
   "metadata": {},
   "outputs": [],
   "source": [
    "guess_must_be_in_dictionary = False\n",
    "cheat = False\n",
    "lives = 6\n",
    "symbols = ['🟩', '🟨', '⬛']\n",
    "\n",
    "main(guess_must_be_in_dictionary, cheat, lives, symbols)"
   ]
  },
  {
   "cell_type": "code",
   "execution_count": null,
   "id": "453b4362-a268-405e-be7f-9e6d253ee527",
   "metadata": {},
   "outputs": [],
   "source": []
  }
 ],
 "metadata": {
  "kernelspec": {
   "display_name": "Python 3 (ipykernel)",
   "language": "python",
   "name": "python3"
  },
  "language_info": {
   "codemirror_mode": {
    "name": "ipython",
    "version": 3
   },
   "file_extension": ".py",
   "mimetype": "text/x-python",
   "name": "python",
   "nbconvert_exporter": "python",
   "pygments_lexer": "ipython3",
   "version": "3.10.0"
  }
 },
 "nbformat": 4,
 "nbformat_minor": 5
}
