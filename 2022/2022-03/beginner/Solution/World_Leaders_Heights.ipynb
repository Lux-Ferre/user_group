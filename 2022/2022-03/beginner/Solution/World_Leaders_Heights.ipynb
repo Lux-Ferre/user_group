{
 "cells": [
  {
   "cell_type": "markdown",
   "id": "9a136eb7",
   "metadata": {},
   "source": [
    "# Using Python and Wikidata to identify and compare the heights of various world leaders"
   ]
  },
  {
   "cell_type": "markdown",
   "id": "371b94b3",
   "metadata": {},
   "source": [
    "Import the library which we will use. \n",
    "\n",
    "You may need to run 'pip install mkwikidata' first"
   ]
  },
  {
   "cell_type": "code",
   "execution_count": 52,
   "id": "dd284eba",
   "metadata": {},
   "outputs": [],
   "source": [
    "import mkwikidata "
   ]
  },
  {
   "cell_type": "markdown",
   "id": "ed9e065d",
   "metadata": {},
   "source": [
    "We have created and tested our query on the Wikidata Query interface and copied the SPARQL code below. See https://w.wiki/4ugN "
   ]
  },
  {
   "cell_type": "code",
   "execution_count": 53,
   "id": "4a9b7b61",
   "metadata": {},
   "outputs": [],
   "source": [
    "query = \"\"\"\n",
    "SELECT DISTINCT ?leader ?leaderLabel ?height WHERE {\n",
    "  VALUES ?o {\n",
    "    wd:Q48352\n",
    "    wd:Q2285706\n",
    "  }\n",
    "  ?leader wdt:P21 wd:Q6581097;\n",
    "    wdt:P39 ?position.\n",
    "  ?position wdt:P279 ?o.\n",
    "  ?leader wdt:P2048 ?height.\n",
    "  SERVICE wikibase:label { bd:serviceParam wikibase:language \"en\". }\n",
    "}\n",
    "ORDER BY DESC (?height)\n",
    "LIMIT 55\n",
    "\"\"\"\n"
   ]
  },
  {
   "cell_type": "markdown",
   "id": "6d02e3bc",
   "metadata": {},
   "source": [
    "Run the query"
   ]
  },
  {
   "cell_type": "code",
   "execution_count": 54,
   "id": "5883b417",
   "metadata": {},
   "outputs": [],
   "source": [
    "query_result = mkwikidata.run_query(query, params={ })"
   ]
  },
  {
   "cell_type": "markdown",
   "id": "c5caa43b",
   "metadata": {},
   "source": [
    "What does the query output?"
   ]
  },
  {
   "cell_type": "code",
   "execution_count": 59,
   "id": "78824258",
   "metadata": {},
   "outputs": [],
   "source": [
    "query_result"
   ]
  },
  {
   "cell_type": "markdown",
   "id": "5de9858f",
   "metadata": {},
   "source": [
    "What type of object do we have? "
   ]
  },
  {
   "cell_type": "code",
   "execution_count": 60,
   "id": "f57f42ab",
   "metadata": {},
   "outputs": [],
   "source": [
    "print(type(query_result))"
   ]
  },
  {
   "cell_type": "markdown",
   "id": "ec9cc314",
   "metadata": {},
   "source": [
    "We can extract the data to a list"
   ]
  },
  {
   "cell_type": "code",
   "execution_count": 57,
   "id": "872a183e",
   "metadata": {},
   "outputs": [],
   "source": [
    "data = [{\"name\" : x[\"leaderLabel\"][\"value\"], \"height\" : int(x[\"height\"][\"value\"])} for x in query_result[\"results\"][\"bindings\"]]"
   ]
  },
  {
   "cell_type": "code",
   "execution_count": 61,
   "id": "0226bb20",
   "metadata": {},
   "outputs": [],
   "source": [
    "print (data)"
   ]
  },
  {
   "cell_type": "markdown",
   "id": "bc25ea99",
   "metadata": {},
   "source": [
    "If we want, we can stick the data in a data frame and plot it"
   ]
  },
  {
   "cell_type": "code",
   "execution_count": 50,
   "id": "24f18a5c",
   "metadata": {},
   "outputs": [],
   "source": [
    "import pandas as pd\n",
    "pd.DataFrame(data).set_index(\"name\").head(10).plot.barh().invert_yaxis()\n"
   ]
  },
  {
   "cell_type": "markdown",
   "id": "40ceb35e",
   "metadata": {},
   "source": [
    "And we can look at the full data frame"
   ]
  },
  {
   "cell_type": "code",
   "execution_count": 51,
   "id": "96e25255",
   "metadata": {},
   "outputs": [],
   "source": [
    "pd.DataFrame(data).set_index(\"name\")"
   ]
  },
  {
   "cell_type": "markdown",
   "id": "7293f6ad",
   "metadata": {},
   "source": [
    "### But who is the tallest of our challenge?\n",
    "\n",
    "Let's create a list of our 'targets'"
   ]
  },
  {
   "cell_type": "code",
   "execution_count": 25,
   "id": "5133f75e",
   "metadata": {},
   "outputs": [],
   "source": [
    "our_leaders = ['Robert Mugabe', 'Vladimir Putin','Vladimir Lenin', 'Adolf Hitler','Joseph Stalin']"
   ]
  },
  {
   "cell_type": "markdown",
   "id": "d918a214",
   "metadata": {},
   "source": [
    "Then we can iterate over our dictionary query results, looking to see if they are in our list. If they match, compare their height. Each time we find one who is taller update the name and height. "
   ]
  },
  {
   "cell_type": "code",
   "execution_count": 46,
   "id": "79f56c76",
   "metadata": {},
   "outputs": [],
   "source": [
    "max_leader = \"\"\n",
    "max_height = 0\n",
    "\n",
    "for x in query_result[\"results\"][\"bindings\"]:\n",
    "    if x[\"leaderLabel\"][\"value\"] in our_leaders:\n",
    "        if int(x[\"height\"][\"value\"]) > max_height:\n",
    "            max_height = int(x[\"height\"][\"value\"])\n",
    "            max_leader = x[\"leaderLabel\"][\"value\"]\n"
   ]
  },
  {
   "cell_type": "markdown",
   "id": "1e2d1d1b",
   "metadata": {},
   "source": [
    "Print out our result"
   ]
  },
  {
   "cell_type": "code",
   "execution_count": null,
   "id": "08121459",
   "metadata": {},
   "outputs": [],
   "source": [
    "print(\"The tallest leader is \" + max_leader + \", who is \"+ str(max_height) + \"cm tall.\")"
   ]
  }
 ],
 "metadata": {
  "kernelspec": {
   "display_name": "Python 3",
   "language": "python",
   "name": "python3"
  },
  "language_info": {
   "codemirror_mode": {
    "name": "ipython",
    "version": 3
   },
   "file_extension": ".py",
   "mimetype": "text/x-python",
   "name": "python",
   "nbconvert_exporter": "python",
   "pygments_lexer": "ipython3",
   "version": "3.7.4"
  }
 },
 "nbformat": 4,
 "nbformat_minor": 5
}
