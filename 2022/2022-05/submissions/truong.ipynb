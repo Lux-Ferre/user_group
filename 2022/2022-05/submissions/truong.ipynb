{
 "cells": [
  {
   "cell_type": "code",
   "execution_count": 113,
   "id": "844e2935",
   "metadata": {},
   "outputs": [],
   "source": [
    "import os\n",
    "import numpy as np\n",
    "import string\n",
    "from pdb import set_trace\n",
    "\n",
    "def is_english_character(char):\n",
    "    correct = string.ascii_letters\n",
    "    return (char in correct)\n",
    "\n",
    "def is_all_char_english(st_in):\n",
    "    for char in st_in:\n",
    "        if char.isalpha() is False:\n",
    "            return False\n",
    "    return True\n",
    "\n",
    "def wordwrap(st, line_len):    \n",
    "    n_char = len(st)\n",
    "    idx_first = 0\n",
    "    out_list = []\n",
    "    while True:        \n",
    "        idx_last = idx_first + line_len\n",
    "        out = st[idx_first: idx_last]\n",
    "#         Check if first starts with space\n",
    "        while out[0] == ' ':\n",
    "            idx_last += 1\n",
    "            idx_first += 1\n",
    "            out = st[idx_first: idx_last]\n",
    "            pass\n",
    "#         Hyphen fix\n",
    "        try:\n",
    "            if (is_all_char_english(out) is True) and (st[idx_last].isalpha()):\n",
    "                out = out[:-1] + \"-\"                \n",
    "                idx_first = idx_last-1\n",
    "                out_list.append(out)\n",
    "                if idx_first >= n_char:\n",
    "                    break\n",
    "                continue\n",
    "        except:\n",
    "            pass\n",
    "\n",
    "#         Last word does not fit then we push it to next line then pad with space\n",
    "        try:\n",
    "            if (is_english_character(out[-1]) is True) and (is_english_character(st[idx_last]) is True):\n",
    "                idx_last_orig = idx_last\n",
    "                while st[idx_last-1].isalpha():\n",
    "                    idx_last -= 1\n",
    "                    pass\n",
    "                out = st[idx_first: idx_last]\n",
    "                \n",
    "#                 Pad with space\n",
    "                while len(out) < line_len:\n",
    "                    out += ' '\n",
    "                out_list.append(out)\n",
    "                \n",
    "                idx_first = idx_last                \n",
    "                if idx_first >= n_char:\n",
    "                    break\n",
    "                continue\n",
    "        except:\n",
    "            pass\n",
    "        \n",
    "        idx_first += line_len\n",
    "        out_list.append(out)\n",
    "        if idx_first >= n_char:\n",
    "            break\n",
    "    \n",
    "#     Pad last part with space\n",
    "    out_last = out_list[-1]\n",
    "    while len(out_last) < line_len:\n",
    "        out_last += ' '\n",
    "    out_list = out_list[:-1]\n",
    "    out_list.append(out_last)    \n",
    "       \n",
    "    return out_list"
   ]
  },
  {
   "cell_type": "code",
   "execution_count": 116,
   "id": "27e98bbb",
   "metadata": {},
   "outputs": [
    {
     "name": "stdout",
     "output_type": "stream",
     "text": [
      "['Harry cast', 'Expelliar-', 'mus to    ', 'disarm    ', 'Voldemort ', 'then      ', 'Ahbakabra-', 'hdfsdsfsdf']\n"
     ]
    }
   ],
   "source": [
    "# inp = 'The quick brown fox jumps over the lazy dog'\n",
    "# n_line_len = 15\n",
    "inp = 'Harry cast Expelliarmus to disarm Voldemort then Ahbakabrahdfsdsfsdf'\n",
    "n_line_len = 10\n",
    "print(wordwrap(inp, n_line_len))"
   ]
  },
  {
   "cell_type": "code",
   "execution_count": null,
   "id": "1a9bbb6c",
   "metadata": {
    "collapsed": true
   },
   "outputs": [],
   "source": []
  }
 ],
 "metadata": {
  "kernelspec": {
   "display_name": "Python 3 (ipykernel)",
   "language": "python",
   "name": "python3"
  },
  "language_info": {
   "codemirror_mode": {
    "name": "ipython",
    "version": 3
   },
   "file_extension": ".py",
   "mimetype": "text/x-python",
   "name": "python",
   "nbconvert_exporter": "python",
   "pygments_lexer": "ipython3",
   "version": "3.9.7"
  }
 },
 "nbformat": 4,
 "nbformat_minor": 5
}
