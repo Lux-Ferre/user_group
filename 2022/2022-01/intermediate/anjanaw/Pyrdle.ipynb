{
  "nbformat": 4,
  "nbformat_minor": 0,
  "metadata": {
    "colab": {
      "name": "Pyrdle.ipynb",
      "provenance": [],
      "collapsed_sections": []
    },
    "kernelspec": {
      "name": "python3",
      "display_name": "Python 3"
    },
    "language_info": {
      "name": "python"
    }
  },
  "cells": [
    {
      "cell_type": "code",
      "execution_count": 1,
      "metadata": {
        "id": "oix4aKexUCVO"
      },
      "outputs": [],
      "source": [
        "import random\n",
        "from termcolor import colored, cprint"
      ]
    },
    {
      "cell_type": "code",
      "source": [
        "f = open(\"words.txt\", \"r\")\n",
        "words = f.read().split('\\n')\n",
        "# print(words)"
      ],
      "metadata": {
        "id": "ysE_CC3FUPzg"
      },
      "execution_count": 2,
      "outputs": []
    },
    {
      "cell_type": "code",
      "source": [
        "def play(r_word):\n",
        "    val = ''\n",
        "    times = 0\n",
        "    history = []\n",
        "    while True:\n",
        "        val = input(\"Enter your word (5 characters): \")\n",
        "        if len(val) != 5:\n",
        "            continue\n",
        "\n",
        "        matches = [int(a==b) for a,b in zip(r_word, val)]\n",
        "        #print(matches)\n",
        "        ins = [int(b in r_word) for a,b in zip(r_word,val)]\n",
        "        #print(ins)\n",
        "        rand_dict = {}\n",
        "\n",
        "        #create a dict of how many times a character appears on the random word\n",
        "        #use this to handle repeats\n",
        "        for c in r_word:\n",
        "            if c in rand_dict:\n",
        "                rand_dict[c] = rand_dict[c]+1\n",
        "            else:\n",
        "                rand_dict[c] = 1\n",
        "            \n",
        "        #print(rand_dict)\n",
        "\n",
        "        outputs = [None, None, None, None, None]\n",
        "\n",
        "        # first go through yeses to give priority to yeses\n",
        "        for i,a,b,c in zip(range(5), matches, ins, val):\n",
        "            if a==1 and b==1:\n",
        "                outputs[i]=(colored(c, 'green'), 2)\n",
        "                rand_dict[c] = rand_dict[c]-1\n",
        "                # print(rand_dict)\n",
        "\n",
        "        # next, skip yeses, go through maybes and nos\n",
        "        for i,a,b,c in zip(range(5), matches, ins, val):\n",
        "            if a==1 and b==1:\n",
        "                continue\n",
        "            elif a==0 and b==1 and rand_dict[c] > 0:\n",
        "                outputs[i]=(colored(c, 'yellow'), 1)\n",
        "                rand_dict[c] = rand_dict[c]-1\n",
        "                # print(rand_dict)\n",
        "            else:\n",
        "                outputs[i]=(colored(c, 'red'), 0)\n",
        "\n",
        "        output_chars = [s[0] for s in outputs]\n",
        "\n",
        "        history.append(output_chars[0]+output_chars[1]+output_chars[2]+output_chars[3]+output_chars[4])\n",
        "        \n",
        "        # if all yeses, we stop\n",
        "        if sum([s[1] for s in outputs]) == 10:\n",
        "            for h in history:\n",
        "                print(h)\n",
        "            break\n",
        "            print('That\\'s a win!')\n",
        "        #print yeses, maybes and nos\n",
        "        print(history[-1])\n",
        "        times += 1\n",
        "        #fail if 6th attempt\n",
        "        if times == 6:\n",
        "            print('No attempts left!')\n",
        "            print('The word was \\''+r_word+'\\'!')\n",
        "            break"
      ],
      "metadata": {
        "id": "PKhBlITBUz5o"
      },
      "execution_count": 3,
      "outputs": []
    },
    {
      "cell_type": "code",
      "source": [
        "while True:\n",
        "    p = input(\"Would you like to play Pyrdle(y/n): \")\n",
        "    if p == \"y\":\n",
        "        rand_word = random.choice(words)\n",
        "        play(rand_word)\n",
        "    else:\n",
        "        break"
      ],
      "metadata": {
        "colab": {
          "base_uri": "https://localhost:8080/"
        },
        "id": "TkrYKUYWlVIM",
        "outputId": "ed8aa4ca-4f49-4b4d-9ef5-e2b8a824bdc5"
      },
      "execution_count": 5,
      "outputs": [
        {
          "name": "stdout",
          "output_type": "stream",
          "text": [
            "Would you like to play Pyrdle(y/n): y\n",
            "Enter your word (5 characters): great\n",
            "\u001b[31mg\u001b[0m\u001b[32mr\u001b[0m\u001b[31me\u001b[0m\u001b[31ma\u001b[0m\u001b[31mt\u001b[0m\n",
            "Enter your word (5 characters): fruit\n",
            "\u001b[31mf\u001b[0m\u001b[32mr\u001b[0m\u001b[33mu\u001b[0m\u001b[31mi\u001b[0m\u001b[31mt\u001b[0m\n",
            "Enter your word (5 characters): orbit\n",
            "\u001b[33mo\u001b[0m\u001b[32mr\u001b[0m\u001b[31mb\u001b[0m\u001b[31mi\u001b[0m\u001b[31mt\u001b[0m\n",
            "Enter your word (5 characters): argue\n",
            "\u001b[31ma\u001b[0m\u001b[32mr\u001b[0m\u001b[31mg\u001b[0m\u001b[32mu\u001b[0m\u001b[31me\u001b[0m\n",
            "Enter your word (5 characters): brouh\n",
            "\u001b[31mb\u001b[0m\u001b[32mr\u001b[0m\u001b[32mo\u001b[0m\u001b[32mu\u001b[0m\u001b[31mh\u001b[0m\n",
            "Enter your word (5 characters): kroup\n",
            "\u001b[31mk\u001b[0m\u001b[32mr\u001b[0m\u001b[32mo\u001b[0m\u001b[32mu\u001b[0m\u001b[33mp\u001b[0m\n",
            "No attempts left!\n",
            "The word was 'proud'!\n",
            "Would you like to play Pyrdle(y/n): n\n"
          ]
        }
      ]
    }
  ]
}