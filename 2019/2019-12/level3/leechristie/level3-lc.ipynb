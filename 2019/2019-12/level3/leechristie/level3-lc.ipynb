{
 "cells": [
  {
   "cell_type": "markdown",
   "metadata": {},
   "source": [
    "# Aberdeen Python - Dec 2019 - Level 3\n",
    "\n",
    "by Lee Christie (@leechristie on GitHub)"
   ]
  },
  {
   "cell_type": "markdown",
   "metadata": {},
   "source": [
    "## Basic Version - Goes Through All Rows"
   ]
  },
  {
   "cell_type": "markdown",
   "metadata": {},
   "source": [
    "`combine_pairwise` takes two numbers and caclulates the number below acording to the rule in the puzzle, e.g.\n",
    "\n",
    "    >>> combine_pairwaise(0, 2):\n",
    "    1"
   ]
  },
  {
   "cell_type": "code",
   "execution_count": 12,
   "metadata": {},
   "outputs": [],
   "source": [
    "def combine_pairwise(x, y):\n",
    "    return [[0, 2, 1],\n",
    "            [2, 1, 0],\n",
    "            [1, 0, 2]][x][y]"
   ]
  },
  {
   "cell_type": "markdown",
   "metadata": {},
   "source": [
    "`next_row` takes an entire row and returns the next row e.g.\n",
    "\n",
    "    >>> next_row([2, 2, 0, 1, 1, 0, 0, 1, 0, 1])\n",
    "    [2, 1, 2, 1, 2, 0, 2, 2, 2]\n",
    " \n",
    "It uses `combine_pairwise` repeatedly on each adjacent pair."
   ]
  },
  {
   "cell_type": "code",
   "execution_count": 13,
   "metadata": {},
   "outputs": [],
   "source": [
    "def next_row(row):\n",
    "    return [combine_pairwise(row[i], row[i+1]) for i in range(len(row) - 1)]"
   ]
  },
  {
   "cell_type": "markdown",
   "metadata": {},
   "source": [
    "`print_triangle` uses `next_row` repeatedly on each row until we are down to a sinlge number, printing each row."
   ]
  },
  {
   "cell_type": "code",
   "execution_count": 14,
   "metadata": {},
   "outputs": [],
   "source": [
    "# Prints the triangle for a given first row\n",
    "def print_triangle(row):\n",
    "    print(' '.join((str(e) for e in row)))\n",
    "    row_num = 1\n",
    "    while len(row) > 1:\n",
    "        row = next_row(row)\n",
    "        print(' ' * row_num, end='')\n",
    "        print(' '.join((str(e) for e in row)))\n",
    "        row_num += 1"
   ]
  },
  {
   "cell_type": "markdown",
   "metadata": {},
   "source": [
    "Testing the `print_triangle` function:"
   ]
  },
  {
   "cell_type": "code",
   "execution_count": 15,
   "metadata": {},
   "outputs": [
    {
     "name": "stdout",
     "output_type": "stream",
     "text": [
      "2 2 0 1 1 0 0 1 0 1\n",
      " 2 1 2 1 2 0 2 2 2\n",
      "  0 0 0 0 1 1 2 2\n",
      "   0 0 0 2 1 0 2\n",
      "    0 0 1 0 2 1\n",
      "     0 2 2 1 0\n",
      "      1 2 0 2\n",
      "       0 1 1\n",
      "        2 1\n",
      "         0\n"
     ]
    }
   ],
   "source": [
    "print_triangle([2, 2, 0, 1, 1, 0, 0, 1, 0, 1])"
   ]
  },
  {
   "cell_type": "markdown",
   "metadata": {},
   "source": [
    "`get_last_number` takes a row and returns the number at the bottom corner of the triangle.\n",
    "\n",
    "It does this the obvious way of going through each row until it gets to the last."
   ]
  },
  {
   "cell_type": "code",
   "execution_count": 16,
   "metadata": {},
   "outputs": [],
   "source": [
    "def get_last_number(row):\n",
    "    while len(row) > 1:\n",
    "        row = next_row(row)\n",
    "    return row[0]"
   ]
  },
  {
   "cell_type": "markdown",
   "metadata": {},
   "source": [
    "Testing `get_last_number`:"
   ]
  },
  {
   "cell_type": "code",
   "execution_count": 17,
   "metadata": {},
   "outputs": [
    {
     "data": {
      "text/plain": [
       "0"
      ]
     },
     "execution_count": 17,
     "metadata": {},
     "output_type": "execute_result"
    }
   ],
   "source": [
    "get_last_number([2, 2, 0, 1, 1, 0, 0, 1, 0, 1])"
   ]
  },
  {
   "cell_type": "markdown",
   "metadata": {},
   "source": [
    "## Fancy Version - Uses Shortcut and Recursion"
   ]
  },
  {
   "cell_type": "markdown",
   "metadata": {},
   "source": [
    "The short-cut of using only the top two two numbers works if the length of the triangle minus 1 is a power of 3.\n",
    "\n",
    "This function tells us if n is such a length."
   ]
  },
  {
   "cell_type": "code",
   "execution_count": 18,
   "metadata": {
    "code_folding": []
   },
   "outputs": [],
   "source": [
    "def is_one_up_from_a_power_of_3(n):\n",
    "    m = 1\n",
    "    if n == m + 1:\n",
    "        return True\n",
    "    while m < n:\n",
    "        m *= 3\n",
    "        if n == m + 1:\n",
    "            return True\n",
    "    return False"
   ]
  },
  {
   "cell_type": "markdown",
   "metadata": {},
   "source": [
    "This function tells us what number equal two or lower than a given number is such a length."
   ]
  },
  {
   "cell_type": "code",
   "execution_count": 19,
   "metadata": {},
   "outputs": [],
   "source": [
    "def largest_magic_number_available(n):\n",
    "    m = 1\n",
    "    largest = None\n",
    "    while m + 1 <= n:\n",
    "        largest = m + 1\n",
    "        m *= 3\n",
    "    return largest"
   ]
  },
  {
   "cell_type": "markdown",
   "metadata": {},
   "source": [
    "This is the main part of the implmentation, for a given triangle, it returns the value at a given co-ordinate, so if we have `x=5`, `y=2` then we are in the 3rd row (`y=2` and we count from `0`) and the 6th number along from the left (`x=5` and we count from `0`).\n",
    "\n",
    "If `y=0` we just read off the first row.\n",
    "\n",
    "If based on the value of `y`, we can form a triangle with a magic length form the first row to this row, we do this and pick the top two corners.\n",
    "\n",
    "Otherwise, we form the largest triangle available for which the short-cut works, and count that number of rows back, then recursively call the function at those positions, and when the recursion returns combine those two values."
   ]
  },
  {
   "cell_type": "code",
   "execution_count": 20,
   "metadata": {},
   "outputs": [],
   "source": [
    "def get_number_at(x, y, row):\n",
    "    \n",
    "    # If we are asking about the top row\n",
    "    if y == 0:\n",
    "        \n",
    "        # Just return the value\n",
    "        return row[x]\n",
    "    \n",
    "    # Any other row\n",
    "    else:\n",
    "        \n",
    "        # Size of sub-triangle\n",
    "        n = y + 1\n",
    "    \n",
    "        # Use the short-cut on the full size\n",
    "        if is_one_up_from_a_power_of_3(n):\n",
    "        \n",
    "            # Get the numbers from the top row\n",
    "            top_left = row[x]\n",
    "            top_right = row[x+y]\n",
    "        \n",
    "        # Don't use the short-cut\n",
    "        else:\n",
    "\n",
    "            # How large of a new sub-triangle can we construct?\n",
    "            m = largest_magic_number_available(n)\n",
    "            \n",
    "            # Get the numbers from recursive call (m-1) rows back\n",
    "            top_left = get_number_at(x, y - (m - 1), row)\n",
    "            top_right = get_number_at(x + (m - 1), y - (m - 1), row)\n",
    "    \n",
    "        # Combine the two values\n",
    "        return combine_pairwise(top_left, top_right)"
   ]
  },
  {
   "cell_type": "markdown",
   "metadata": {},
   "source": [
    "This is just a wrapper to access the bottom corner."
   ]
  },
  {
   "cell_type": "code",
   "execution_count": null,
   "metadata": {},
   "outputs": [],
   "source": [
    "# Fast recursive version of get_last_number\n",
    "def get_last_number_fast(row):\n",
    "    return get_number_at(0, len(row)-1, row)"
   ]
  },
  {
   "cell_type": "markdown",
   "metadata": {},
   "source": [
    "Testing `get_last_number_fast`:"
   ]
  },
  {
   "cell_type": "code",
   "execution_count": 21,
   "metadata": {},
   "outputs": [
    {
     "data": {
      "text/plain": [
       "0"
      ]
     },
     "execution_count": 21,
     "metadata": {},
     "output_type": "execute_result"
    }
   ],
   "source": [
    "get_last_number_fast([2, 2, 0, 1, 1, 0, 0, 1, 0, 1])"
   ]
  },
  {
   "cell_type": "markdown",
   "metadata": {},
   "source": [
    "Running many times to check how long it takes:"
   ]
  },
  {
   "cell_type": "code",
   "execution_count": 39,
   "metadata": {},
   "outputs": [
    {
     "data": {
      "application/vnd.jupyter.widget-view+json": {
       "model_id": "2562e9eb741e46af99adfc7b8ee6fda2",
       "version_major": 2,
       "version_minor": 0
      },
      "text/plain": [
       "HBox(children=(IntProgress(value=0), HTML(value='')))"
      ]
     },
     "metadata": {},
     "output_type": "display_data"
    },
    {
     "name": "stdout",
     "output_type": "stream",
     "text": [
      "\n"
     ]
    }
   ],
   "source": [
    "from random import randint\n",
    "from time import time\n",
    "from tqdm.notebook import tqdm\n",
    "\n",
    "NUM_SAMPLES = 1000\n",
    "\n",
    "runtimes = [None] * 101\n",
    "runtimes_fast = [None] * 101\n",
    "\n",
    "for n in tqdm(range(1, 101)):\n",
    "\n",
    "    start = time()\n",
    "    for i in range(NUM_SAMPLES):\n",
    "        row = [randint(0, 2) for _ in range(n)]\n",
    "        get_last_number(row)\n",
    "    runtimes[n] = (time() - start) / NUM_SAMPLES\n",
    "\n",
    "    start = time()\n",
    "    for i in range(NUM_SAMPLES):\n",
    "        row = [randint(0, 2) for _ in range(n)]\n",
    "        get_last_number_fast(row)\n",
    "    runtimes_fast[n] = (time() - start) / NUM_SAMPLES"
   ]
  },
  {
   "cell_type": "markdown",
   "metadata": {},
   "source": [
    "And plotting the results:"
   ]
  },
  {
   "cell_type": "code",
   "execution_count": 41,
   "metadata": {},
   "outputs": [
    {
     "data": {
      "image/png": "[encoded data removed]",
      "text/plain": [
       "<Figure size 432x288 with 1 Axes>"
      ]
     },
     "metadata": {
      "needs_background": "light"
     },
     "output_type": "display_data"
    }
   ],
   "source": [
    "import matplotlib.pyplot as plt\n",
    "\n",
    "xs = list(range(1, 101))\n",
    "ys1 = runtimes[1:]\n",
    "ys2 = runtimes_fast[1:]\n",
    "\n",
    "minimum = min((min(ys1), min(ys2)))\n",
    "maximum = max((max(ys1), max(ys2)))\n",
    "\n",
    "fig = plt.figure()\n",
    "ax1 = fig.add_subplot(111)\n",
    "ax1.scatter(xs, ys1, s=10, c='b', marker=\"s\", label='get_last_number')\n",
    "ax1.scatter(xs, ys2, s=10, c='r', marker=\"o\", label='get_last_number_fast')\n",
    "\n",
    "plt.axis([1, 100, minimum, maximum])\n",
    "\n",
    "plt.legend(loc='upper left');\n",
    "plt.show()"
   ]
  }
 ],
 "metadata": {
  "kernelspec": {
   "display_name": "Python 3",
   "language": "python",
   "name": "python3"
  }
 },
 "nbformat": 4,
 "nbformat_minor": 2
}
