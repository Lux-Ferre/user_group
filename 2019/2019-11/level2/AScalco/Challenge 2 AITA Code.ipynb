{
 "cells": [
  {
   "cell_type": "code",
   "execution_count": 24,
   "metadata": {
    "scrolled": true
   },
   "outputs": [
    {
     "name": "stdout",
     "output_type": "stream",
     "text": [
      "Please, input a IATA code, AFA\n",
      "Alfa Air\n"
     ]
    }
   ],
   "source": [
    "text_file = \"IATA_code.csv\"\n",
    "# Ask for a AITA code to user\n",
    "user_code = input(\"Please, input a IATA code, \")\n",
    "# Look for the user code inside the text file\n",
    "# \"encoding\" and \"errors\" arguments were added due to a UTF error\n",
    "with open(text_file, encoding='utf-8', errors='ignore') as file:\n",
    "    # This will keep the file open until the I exit the block\n",
    "    for line in file:\n",
    "        line = line.strip(\"\\n\") # Remove lines in the middle\n",
    "        # line.split will assign the one element to code, and the other to name\n",
    "        if line.count(\",\") == 1:\n",
    "            code, name = line.split(\",\")\n",
    "            if code == user_code:\n",
    "                print(name)"
   ]
  },
  {
   "cell_type": "code",
   "execution_count": null,
   "metadata": {},
   "outputs": [],
   "source": []
  }
 ],
 "metadata": {
  "kernelspec": {
   "display_name": "Python 3",
   "language": "python",
   "name": "python3"
  },
  "language_info": {
   "codemirror_mode": {
    "name": "ipython",
    "version": 3
   },
   "file_extension": ".py",
   "mimetype": "text/x-python",
   "name": "python",
   "nbconvert_exporter": "python",
   "pygments_lexer": "ipython3",
   "version": "3.7.3"
  }
 },
 "nbformat": 4,
 "nbformat_minor": 2
}
