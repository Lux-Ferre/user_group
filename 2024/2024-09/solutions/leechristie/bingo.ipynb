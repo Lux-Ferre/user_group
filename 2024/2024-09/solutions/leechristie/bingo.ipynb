{
 "cells": [
  {
   "metadata": {
    "ExecuteTime": {
     "end_time": "2024-09-11T18:43:25.679470Z",
     "start_time": "2024-09-11T18:43:25.677586Z"
    }
   },
   "cell_type": "code",
   "source": [
    "from collections import Counter\n",
    "import tqdm.auto as tqdm\n",
    "\n",
    "import bingo"
   ],
   "id": "51faebf1a830048a",
   "outputs": [],
   "execution_count": 2
  },
  {
   "metadata": {},
   "cell_type": "markdown",
   "source": "# Simulation with 1 Bingo Card",
   "id": "9635e843b468bfb5"
  },
  {
   "metadata": {},
   "cell_type": "code",
   "source": [
    "NUM_SAMPLES = 1_000_000\n",
    "\n",
    "counter = Counter()\n",
    "\n",
    "for _ in tqdm.trange(NUM_SAMPLES):\n",
    "    \n",
    "    card = bingo.BingoCard()\n",
    "    \n",
    "    for value in bingo.balls():\n",
    "        card.check(value)\n",
    "        win = card.win()\n",
    "        if win:\n",
    "            counter[win] += 1\n",
    "            break"
   ],
   "id": "4fc4cbde1d8fd0",
   "outputs": [],
   "execution_count": null
  },
  {
   "metadata": {
    "ExecuteTime": {
     "end_time": "2024-09-11T18:49:47.802732Z",
     "start_time": "2024-09-11T18:43:25.686526Z"
    }
   },
   "cell_type": "code",
   "outputs": [
    {
     "data": {
      "text/plain": [
       "  0%|          | 0/1000000 [00:00<?, ?it/s]"
      ],
      "application/vnd.jupyter.widget-view+json": {
       "version_major": 2,
       "version_minor": 0,
       "model_id": "74e5eecc26904795bdc8b3d33e711313"
      }
     },
     "metadata": {},
     "output_type": "display_data"
    },
    {
     "name": "stdout",
     "output_type": "stream",
     "text": [
      "WinType.FULL_COL 46.4%\n",
      "WinType.FULL_ROW 46.4%\n",
      "WinType.FULL_BOTH 7.2%\n"
     ]
    }
   ],
   "execution_count": 3,
   "source": [
    "for win, count in counter.most_common():\n",
    "    percent = 100 * count / NUM_SAMPLES\n",
    "    print(win, f'{percent:.1f}%')"
   ],
   "id": "5f41c6112a46a562"
  },
  {
   "metadata": {},
   "cell_type": "markdown",
   "source": "# Simulation with 10 Bingo Cards",
   "id": "ebf9632d4f9d504f"
  },
  {
   "metadata": {
    "ExecuteTime": {
     "end_time": "2024-09-11T19:15:26.718519Z",
     "start_time": "2024-09-11T19:11:35.200916Z"
    }
   },
   "cell_type": "code",
   "source": [
    "NUM_SAMPLES = 100_000\n",
    "NUM_CARDS = 10\n",
    "\n",
    "counter = Counter()\n",
    "\n",
    "for _ in tqdm.trange(NUM_SAMPLES):\n",
    "\n",
    "    cards = [bingo.BingoCard() for _ in range(NUM_CARDS)]\n",
    "\n",
    "    won = False\n",
    "    for value in bingo.balls():\n",
    "        for card in cards:\n",
    "            card.check(value)\n",
    "            win = card.win()\n",
    "            if win:\n",
    "                counter[win] += 1\n",
    "                won = True\n",
    "                break\n",
    "        if won:\n",
    "            break"
   ],
   "id": "b264f3f5d68738cf",
   "outputs": [
    {
     "data": {
      "text/plain": [
       "  0%|          | 0/100000 [00:00<?, ?it/s]"
      ],
      "application/vnd.jupyter.widget-view+json": {
       "version_major": 2,
       "version_minor": 0,
       "model_id": "fd66408ef606444cb9f0cd67abc3ee9b"
      }
     },
     "metadata": {},
     "output_type": "display_data"
    }
   ],
   "execution_count": 31
  },
  {
   "metadata": {
    "ExecuteTime": {
     "end_time": "2024-09-11T19:15:26.724340Z",
     "start_time": "2024-09-11T19:15:26.722352Z"
    }
   },
   "cell_type": "code",
   "source": [
    "for win, count in counter.most_common():\n",
    "    percent = 100 * count / NUM_SAMPLES\n",
    "    print(win, f'{percent:.1f}%')"
   ],
   "id": "ee8efdf15bfbf461",
   "outputs": [
    {
     "name": "stdout",
     "output_type": "stream",
     "text": [
      "WinType.FULL_ROW 51.8%\n",
      "WinType.FULL_COL 47.3%\n",
      "WinType.FULL_BOTH 0.9%\n"
     ]
    }
   ],
   "execution_count": 32
  },
  {
   "metadata": {},
   "cell_type": "markdown",
   "source": "# Simulation with 1000 Bingo Cards",
   "id": "a5492da42d2a5774"
  },
  {
   "metadata": {
    "ExecuteTime": {
     "end_time": "2024-09-11T19:07:56.554020Z",
     "start_time": "2024-09-11T19:06:09.482363Z"
    }
   },
   "cell_type": "code",
   "source": [
    "NUM_SAMPLES = 1_000\n",
    "NUM_CARDS = 1_000\n",
    "\n",
    "counter = Counter()\n",
    "\n",
    "for _ in tqdm.trange(NUM_SAMPLES):\n",
    "\n",
    "    cards = [bingo.BingoCard() for _ in range(NUM_CARDS)]\n",
    "\n",
    "    won = False\n",
    "    for value in bingo.balls():\n",
    "        for card in cards:\n",
    "            card.check(value)\n",
    "            win = card.win()\n",
    "            if win:\n",
    "                counter[win] += 1\n",
    "                won = True\n",
    "                break\n",
    "        if won:\n",
    "            break"
   ],
   "id": "fbd3e81aeed2dd94",
   "outputs": [
    {
     "data": {
      "text/plain": [
       "  0%|          | 0/1000 [00:00<?, ?it/s]"
      ],
      "application/vnd.jupyter.widget-view+json": {
       "version_major": 2,
       "version_minor": 0,
       "model_id": "d8fdc0c83443486db32ee2829175901b"
      }
     },
     "metadata": {},
     "output_type": "display_data"
    }
   ],
   "execution_count": 29
  },
  {
   "metadata": {
    "ExecuteTime": {
     "end_time": "2024-09-11T19:07:56.560246Z",
     "start_time": "2024-09-11T19:07:56.558192Z"
    }
   },
   "cell_type": "code",
   "source": [
    "for win, count in counter.most_common():\n",
    "    percent = 100 * count / NUM_SAMPLES\n",
    "    print(win, f'{percent:.1f}%')"
   ],
   "id": "e702924e9da27517",
   "outputs": [
    {
     "name": "stdout",
     "output_type": "stream",
     "text": [
      "WinType.FULL_ROW 67.1%\n",
      "WinType.FULL_COL 32.9%\n"
     ]
    }
   ],
   "execution_count": 30
  },
  {
   "metadata": {},
   "cell_type": "code",
   "outputs": [],
   "execution_count": null,
   "source": "",
   "id": "7ff992622e879218"
  }
 ],
 "metadata": {
  "kernelspec": {
   "display_name": "Python 3",
   "language": "python",
   "name": "python3"
  },
  "language_info": {
   "codemirror_mode": {
    "name": "ipython",
    "version": 2
   },
   "file_extension": ".py",
   "mimetype": "text/x-python",
   "name": "python",
   "nbconvert_exporter": "python",
   "pygments_lexer": "ipython2",
   "version": "2.7.6"
  }
 },
 "nbformat": 4,
 "nbformat_minor": 5
}
