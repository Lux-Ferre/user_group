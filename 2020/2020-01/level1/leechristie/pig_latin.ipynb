{
 "cells": [
  {
   "cell_type": "code",
   "execution_count": 1,
   "metadata": {},
   "outputs": [],
   "source": [
    "english = 'Aberdeen Python is a fun event. We all love coding Python!'"
   ]
  },
  {
   "cell_type": "code",
   "execution_count": 2,
   "metadata": {},
   "outputs": [],
   "source": [
    "def word_to_pig_latin(word):\n",
    "    if len(word) == 0:\n",
    "        return ''\n",
    "    end = ''\n",
    "    if word[-1] in ',.?!':\n",
    "        end = word[-1]\n",
    "        word = word[:-1]\n",
    "    if word[0] in 'aeiouAEIOU':\n",
    "        return word + '-way' + end\n",
    "    else:\n",
    "        return word[1:] + '-' + word[0] + 'ay' + end"
   ]
  },
  {
   "cell_type": "code",
   "execution_count": 3,
   "metadata": {},
   "outputs": [],
   "source": [
    "def to_pig_latin(english):\n",
    "    rv = []\n",
    "    for word in english.split(' '):\n",
    "        rv.append(word_to_pig_latin(word))\n",
    "    return ' '.join(rv)"
   ]
  },
  {
   "cell_type": "code",
   "execution_count": 4,
   "metadata": {},
   "outputs": [
    {
     "data": {
      "text/plain": [
       "'Aberdeen-way ython-Pay is-way a-way un-fay event-way. e-Way all-way ove-lay oding-cay ython-Pay!'"
      ]
     },
     "execution_count": 4,
     "metadata": {},
     "output_type": "execute_result"
    }
   ],
   "source": [
    "to_pig_latin(english)"
   ]
  }
 ],
 "metadata": {
  "kernelspec": {
   "display_name": "Python 3",
   "language": "python",
   "name": "python3"
  },
  "language_info": {
   "codemirror_mode": {
    "name": "ipython",
    "version": 3
   },
   "file_extension": ".py",
   "mimetype": "text/x-python",
   "name": "python",
   "nbconvert_exporter": "python",
   "pygments_lexer": "ipython3",
   "version": "3.7.5"
  }
 },
 "nbformat": 4,
 "nbformat_minor": 4
}
