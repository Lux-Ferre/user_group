{
 "cells": [
  {
   "cell_type": "markdown",
   "metadata": {},
   "source": [
    "This is my attempt at coding and decoding a sample text."
   ]
  },
  {
   "cell_type": "code",
   "execution_count": null,
   "metadata": {},
   "outputs": [],
   "source": [
    "import os \n",
    "os.getcwd() \n",
    "import re"
   ]
  },
  {
   "cell_type": "markdown",
   "metadata": {},
   "source": [
    "I have made use of the 'string' module which includes handy sets, such as the upper and lower case letters, all the letters and all punctuation marks.\n",
    "\n",
    "The coding function codeText takes the text, the number of characters to offset and the chunck length.\n",
    "Note that I use mod(26) to perform the offset which caters for any input, positive or negative."
   ]
  },
  {
   "cell_type": "code",
   "execution_count": 213,
   "metadata": {},
   "outputs": [],
   "source": [
    "from string import ascii_uppercase\n",
    "from random import choice\n",
    "def codeText(text,c,l):\n",
    "    #c is offset, which could be negative\n",
    "    #l is chunk length\n",
    "    #remove all non-alphas and convert to upper case\n",
    "    newText=''\n",
    "    i=0\n",
    "    for ch in re.sub('[^A-Za-z]+', '', text).upper():\n",
    "        newText=newText+chr(65+(ord(ch)-65+c)%26)\n",
    "        i+=1\n",
    "        if i==l:\n",
    "            newText=newText+' '\n",
    "            i=0\n",
    "    \n",
    "    #Now add characters to last group if necessary\n",
    "    while (len(newText)%(l+1)>0) and (len(newText)%(l+1)<l):\n",
    "        newText=newText+random.choice(ascii_uppercase)\n",
    "        \n",
    "    return newText\n",
    "    "
   ]
  },
  {
   "cell_type": "markdown",
   "metadata": {},
   "source": [
    "The decodeText function reverses the process. I have added two parameters. The first, c, is the character I want to test for since there is no guarantee that 'E' will be the most frequent.  The second, n, is where I expect this character to appear in the sorted list.  \n",
    "\n",
    "This is to overcome subtleties where, for instance, there is more than one character with the maximum frequency.  The order of characters will depend on the alphabetic order of characters in the code rather than the original message.\n",
    "\n",
    "Note that this function also returns the code, which may be the original, the mod of the original if it was greater than 26, or the original +/- 26 depending on the coding.\n",
    "\n",
    "For instance, if E is the most frequent letter and we code using a shift of 22, E=>A. Decoding will give a shift of -4."
   ]
  },
  {
   "cell_type": "code",
   "execution_count": 355,
   "metadata": {},
   "outputs": [],
   "source": [
    "def decodeText(text,c,n):\n",
    "    #c is character we're relying on\n",
    "    #n is place for c, eg if we believe it's second most common n=2\n",
    "    #This approach allows for the fact that 'E' is not always the most common letter in a sample of text\n",
    "    #remove spaces\n",
    "    text=text.replace(' ','')\n",
    "    #find most common letter\n",
    "    tDict = {}\n",
    "    for ch in ascii_uppercase:\n",
    "        tDict[ch]=text.count(ch)\n",
    "    #sort the list in descending order\n",
    "    sList=sorted(tDict.items(), key=lambda x: x[1],reverse=True)\n",
    "    shift=ord(sList[n-1][0])-ord(c)\n",
    "    newText=''\n",
    "    for ch in text:\n",
    "        newText=newText+chr(65+(ord(ch)-65-shift)%26)\n",
    "    \n",
    "    return shift, newText\n",
    "\n",
    "def load_data(filename):\n",
    "    return_string = ''\n",
    "\n",
    "    with open(filename, 'r') as raw_data:\n",
    "        for line in raw_data:\n",
    "            return_string = return_string + line\n",
    "    return return_string\n"
   ]
  },
  {
   "cell_type": "code",
   "execution_count": 351,
   "metadata": {},
   "outputs": [
    {
     "name": "stdout",
     "output_type": "stream",
     "text": [
      "This is a sample.  It includes commas, and 'inverted' commas but doesn't miss the apostrophe.\n"
     ]
    }
   ],
   "source": [
    "text=\"This is a sample.  It includes commas, and 'inverted' commas but doesn't miss the apostrophe.\"\n",
    "print(text)\n"
   ]
  },
  {
   "cell_type": "code",
   "execution_count": 356,
   "metadata": {},
   "outputs": [
    {
     "name": "stdout",
     "output_type": "stream",
     "text": [
      "THISISASAMPLEITINCLUDESCOMMASANDINVERTEDCOMMASBUTDOESNTMISSTHEAPOSTROPHE\n",
      "ZNOYOYG YGSVRKO ZOTIRAJ KYIUSSG YGTJOTB KXZKJIU SSGYHAZ JUKYTZS OYYZNKG VUYZXUV NKSHVGL\n"
     ]
    },
    {
     "data": {
      "text/plain": [
       "(6,\n",
       " 'THISISASAMPLEITINCLUDESCOMMASANDINVERTEDCOMMASBUTDOESNTMISSTHEAPOSTROPHEMBPAF')"
      ]
     },
     "execution_count": 356,
     "metadata": {},
     "output_type": "execute_result"
    }
   ],
   "source": [
    "newText=codeText(text,6,7)\n",
    "print(re.sub('[^A-Za-z]+', '', text).upper())\n",
    "print(newText)\n",
    "#decode it using S as the most frequent\n",
    "decodeText(newText,'S',1)"
   ]
  },
  {
   "cell_type": "markdown",
   "metadata": {},
   "source": [
    "Here's the result of applying this to the Cypher2.txt file supplied"
   ]
  },
  {
   "cell_type": "code",
   "execution_count": 298,
   "metadata": {},
   "outputs": [
    {
     "data": {
      "text/plain": [
       "'PYTHONISANINTERPRETEDHIGHLEVELGENERALPURPOSEPROGRAMMINGLANGUAGECREATEDBYGUIDOVANROSSUMANDFIRSTRELEASEDINNINTEENNIGHTYONEPYTHONSDESIGNPHILOSOPHYEMPHASIZESCODEREADABILITYWITHITSNOTABLEUSEOFSIGNIFICANTWHITESPACEITSLANGUAGECONSTRUCTSANDOBJECTORIENTEDAPPROACHAIMTOHELPPROGRAMMERSWRITECLEARLOGICALCODEFORSMALLANDLARGESCALEPROJECTSPYTHONISDYNAMICALLYTYPEDANDGARBAGECOLLECTEDITSUPPORTSMULTIPLEPROGRAMMINGPARADIGMSINCLUDINGPROCEDURALOBJECTORIENTEDANDFUNCTIONALPROGRAMMINGPYTHONISOFTENDESCRIBEDASABATTERIESINCLUDEDLANGUAGEDUETOITSCOMPREHENSIVESTANDARDLIBRARYPYTHONWASCONCEIVEDINTHELATESASASUCCESSORTOTHEABCLANGUAGEPYTHONTWOPOINTZERORELEASEDINTWOTHOUSANDINTRODUCEDFEATURESLIKELISTCOMPREHENSIONSANDAGARBAGECOLLECTIONSYSTEMCAPABLEOFCOLLECTINGREFERENCECYCLESPYTHONTHREEPOINTZERORELEASEDINTWOTHOUSANDANDEIGHTWASAMAJORREVISIONOFTHELANGUAGETHATISNOTCOMPLETELYBACKWARDCOMPATIBLEANDMUCHPYTHONCODEDOESNOTRUNUNMODIFIEDONPYTHONTHEPYTHONLANGUAGEIEPYTHONTWOPOINTSEVENPOINTXWASOFFICIALLYDISCONTINUEDONJANUARYFIRSTTWENTYTWENTYFIRSTPLANNEDFORTWOTHOUSANDFIFTEENAFTERWHICHSECURITYPATCHESANDOTHERIMPROVEMENTSWILLNOTBERELEASEDFORITWITHPYTHONTWOSENDOFLIFEONLYPYTHONTHREEPOINTFIVEPOINTXANDLATERARESUPPORTEDPYTHONINTERPRETERSAREAVAILABLEFORMANYOPERATINGSYSTEMSAGLOBALCOMMUNITYOFPROGRAMMERSDEVELOPSANDMAINTAINSCPYTHONANOPENSOURCEREFERENCEIMPLEMENTATIONANONPROFITORGANIZATIONTHEPYTHONSOFTWAREFOUNDATIONMANAGESANDDIRECTSRESOURCESFORPYTHONANDCPYTHONDEVELOPMENTFFZ'"
      ]
     },
     "execution_count": 298,
     "metadata": {},
     "output_type": "execute_result"
    }
   ],
   "source": [
    "text=load_data('CYPHER2.TXT')\n",
    "decodeText(text,'E',1)"
   ]
  }
 ],
 "metadata": {
  "kernelspec": {
   "display_name": "Python 3",
   "language": "python",
   "name": "python3"
  },
  "language_info": {
   "codemirror_mode": {
    "name": "ipython",
    "version": 3
   },
   "file_extension": ".py",
   "mimetype": "text/x-python",
   "name": "python",
   "nbconvert_exporter": "python",
   "pygments_lexer": "ipython3",
   "version": "3.6.0"
  }
 },
 "nbformat": 4,
 "nbformat_minor": 2
}
