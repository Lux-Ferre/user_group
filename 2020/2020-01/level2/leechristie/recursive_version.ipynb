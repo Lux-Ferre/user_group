{
 "cells": [
  {
   "cell_type": "markdown",
   "metadata": {},
   "source": [
    "Returns the sign of a value (-1, 0, or 1 for -ve, 0, or +ve)"
   ]
  },
  {
   "cell_type": "code",
   "execution_count": 4,
   "metadata": {},
   "outputs": [],
   "source": [
    "def sgn(x):\n",
    "    if x < 0:\n",
    "        return -1\n",
    "    elif x > 0:\n",
    "        return 1\n",
    "    else:\n",
    "        return 0"
   ]
  },
  {
   "cell_type": "markdown",
   "metadata": {},
   "source": [
    "Recursive implmentation of bisection method"
   ]
  },
  {
   "cell_type": "code",
   "execution_count": 5,
   "metadata": {},
   "outputs": [],
   "source": [
    "def bisection(f, left, right, dp):\n",
    "    \n",
    "    if round(right, dp) == round(left, dp): # done\n",
    "        return round(right, dp)\n",
    "    \n",
    "    elif right < left: # wrong order, swap\n",
    "        return bisection(f, right, left, dp)\n",
    "    \n",
    "    else: # recurse on left,mid or mid,right\n",
    "        mid = (left + right) / 2\n",
    "        left_val = f(left)\n",
    "        mid_val = f(mid)\n",
    "        right_val = f(right)\n",
    "        \n",
    "        if sgn(left_val) != sgn(mid_val): # recurse on left,mid\n",
    "            return bisection(f, left, mid, dp)\n",
    "        \n",
    "        else: # resurse on mid,right\n",
    "            assert sgn(mid_val) != sgn(right_val)\n",
    "            return bisection(f, mid, right, dp)"
   ]
  },
  {
   "cell_type": "markdown",
   "metadata": {},
   "source": [
    "Test case"
   ]
  },
  {
   "cell_type": "code",
   "execution_count": 6,
   "metadata": {},
   "outputs": [
    {
     "data": {
      "text/plain": [
       "2.153292"
      ]
     },
     "execution_count": 6,
     "metadata": {},
     "output_type": "execute_result"
    }
   ],
   "source": [
    "import math\n",
    "\n",
    "bisection(lambda x: x * math.exp(-x) - 0.25, 2.1, 2.3, 6)"
   ]
  }
 ],
 "metadata": {
  "kernelspec": {
   "display_name": "Python 3",
   "language": "python",
   "name": "python3"
  },
  "language_info": {
   "codemirror_mode": {
    "name": "ipython",
    "version": 3
   },
   "file_extension": ".py",
   "mimetype": "text/x-python",
   "name": "python",
   "nbconvert_exporter": "python",
   "pygments_lexer": "ipython3",
   "version": "3.7.5"
  }
 },
 "nbformat": 4,
 "nbformat_minor": 2
}
