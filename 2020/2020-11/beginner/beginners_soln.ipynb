{
 "cells": [
  {
   "cell_type": "code",
   "execution_count": null,
   "metadata": {},
   "outputs": [],
   "source": [
    "from tqdm.notebook import trange, tqdm"
   ]
  },
  {
   "cell_type": "code",
   "execution_count": null,
   "metadata": {},
   "outputs": [],
   "source": [
    "def process_row(line):\n",
    "    line = line.strip()\n",
    "    row = line.split('\\t')\n",
    "    return [int(e) for e in row]"
   ]
  },
  {
   "cell_type": "code",
   "execution_count": null,
   "metadata": {},
   "outputs": [],
   "source": [
    "def rect_sum(data, top, bottom, left, right):\n",
    "    total = 0\n",
    "    for row_num in range(top, bottom+1):\n",
    "        row = data[row_num]\n",
    "        total += sum(row[left:right+1])\n",
    "    return total"
   ]
  },
  {
   "cell_type": "code",
   "execution_count": null,
   "metadata": {},
   "outputs": [],
   "source": [
    "def print_rect(data, top, bottom, left, right):\n",
    "    for row_num in range(top, bottom+1):\n",
    "        row = data[row_num]\n",
    "        print('\\t'.join([str(e) for e in row[left:right+1]]))"
   ]
  },
  {
   "cell_type": "code",
   "execution_count": null,
   "metadata": {},
   "outputs": [],
   "source": [
    "with open('rect2.txt') as file:\n",
    "    data = [process_row(line) for line in file]"
   ]
  },
  {
   "cell_type": "code",
   "execution_count": null,
   "metadata": {},
   "outputs": [],
   "source": [
    "height = len(data)\n",
    "width = len(data[0])\n",
    "\n",
    "best_total = None\n",
    "best_range = None\n",
    "for top in trange(height):\n",
    "    for bottom in range(top, height):\n",
    "        for left in range(width):\n",
    "            for right in range(left, width):\n",
    "                total = rect_sum(data, top, bottom, left, right)\n",
    "                if best_total is None or total > best_total:\n",
    "                    best_total = total\n",
    "                    best_range = top, bottom, left, right"
   ]
  },
  {
   "cell_type": "code",
   "execution_count": null,
   "metadata": {},
   "outputs": [],
   "source": [
    "top, bottom, left, right = best_range"
   ]
  },
  {
   "cell_type": "code",
   "execution_count": null,
   "metadata": {},
   "outputs": [],
   "source": [
    "print(f'total = {best_total}')\n",
    "print()\n",
    "print_rect(data, top, bottom, left, right)"
   ]
  },
  {
   "cell_type": "code",
   "execution_count": null,
   "metadata": {},
   "outputs": [],
   "source": []
  }
 ],
 "metadata": {
  "kernelspec": {
   "display_name": "Python 3",
   "language": "python",
   "name": "python3"
  },
  "language_info": {
   "codemirror_mode": {
    "name": "ipython",
    "version": 3
   },
   "file_extension": ".py",
   "mimetype": "text/x-python",
   "name": "python",
   "nbconvert_exporter": "python",
   "pygments_lexer": "ipython3",
   "version": "3.7.9"
  }
 },
 "nbformat": 4,
 "nbformat_minor": 4
}
