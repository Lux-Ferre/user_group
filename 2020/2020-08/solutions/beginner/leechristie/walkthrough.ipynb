{
 "cells": [
  {
   "cell_type": "markdown",
   "metadata": {},
   "source": [
    "**Beginner Group Walkthrough**"
   ]
  },
  {
   "cell_type": "code",
   "execution_count": null,
   "metadata": {},
   "outputs": [],
   "source": [
    "def input_integer(prompt, minimum=0, maximum=100):\n",
    "    while True:\n",
    "        try:\n",
    "            result = input(prompt)\n",
    "            result = int(result)\n",
    "            if not minimum <= result <= maximum:\n",
    "                raise ValueError\n",
    "            return result\n",
    "        except ValueError:\n",
    "            print('Invalid input!')"
   ]
  },
  {
   "cell_type": "code",
   "execution_count": null,
   "metadata": {},
   "outputs": [],
   "source": [
    "scores = []\n",
    "\n",
    "while True:\n",
    "    name = input('Name:')\n",
    "    if not name:\n",
    "        break\n",
    "    score = input_integer('Score:')\n",
    "    scores.append((score, name))\n",
    "\n",
    "scores.sort()"
   ]
  },
  {
   "cell_type": "code",
   "execution_count": null,
   "metadata": {},
   "outputs": [],
   "source": [
    "max_length = max([len(name) for score, name in scores])\n",
    "\n",
    "place = 1\n",
    "previous = None\n",
    "for score, name in reversed(scores):\n",
    "    \n",
    "    if score == previous:\n",
    "        place_string = '    '\n",
    "    else:\n",
    "        place_string = (str(place) + '.').ljust(4)\n",
    "    \n",
    "    place += 1\n",
    "    \n",
    "    name = name.ljust(max_length)\n",
    "    \n",
    "    previous = score\n",
    "        \n",
    "    score = str(score).rjust(4)\n",
    "    \n",
    "    print(place_string, name, score, sep='')"
   ]
  },
  {
   "cell_type": "code",
   "execution_count": null,
   "metadata": {},
   "outputs": [],
   "source": []
  },
  {
   "cell_type": "code",
   "execution_count": null,
   "metadata": {},
   "outputs": [],
   "source": []
  }
 ],
 "metadata": {
  "kernelspec": {
   "display_name": "Python 3",
   "language": "python",
   "name": "python3"
  },
  "language_info": {
   "codemirror_mode": {
    "name": "ipython",
    "version": 3
   },
   "file_extension": ".py",
   "mimetype": "text/x-python",
   "name": "python",
   "nbconvert_exporter": "python",
   "pygments_lexer": "ipython3",
   "version": "3.7.7"
  }
 },
 "nbformat": 4,
 "nbformat_minor": 4
}
