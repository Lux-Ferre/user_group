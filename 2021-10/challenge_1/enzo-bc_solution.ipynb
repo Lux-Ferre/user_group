{
 "cells": [
  {
   "cell_type": "markdown",
   "metadata": {},
   "source": [
    "# Challenge 1 - Basic Time Series\n",
    "\n",
    "\n",
    "Time series manipulation is perhaps one of the most dreaded and brain-braking data munging activities. We need good tools to facilitate our jobs. \n",
    "\n",
    "In this challenge you will try to perform some basic data analysis and manipulations that require working with time series. Python, especially through Pandas, has great time series funcionality.\n",
    "\n",
    "Instead of having a filled notebook where you (and me) can look at the answers I will first let you try to complete the challenge on your own. After you give it a go I will guide you through showing you my thought process and how I would solve some of the issues. This challenge will also be a test of how good you are at reading documentation. "
   ]
  },
  {
   "cell_type": "markdown",
   "metadata": {},
   "source": [
    "## Objective\n",
    "\n",
    "* Calculate the monthly and annual total oil production from the Alba field in the North Sea.\n",
    "\n",
    "### Data\n",
    "\n",
    "In the following cell you will find a list with monthly oil production in **thousand barrels per day** for **Jan 2019 to Dec 2020** for the ALBA field. Two years worht of data. Each data point is recorded by months end.\n",
    "\n",
    "* Source https://data-ogauthority.opendata.arcgis.com/pages/production"
   ]
  },
  {
   "cell_type": "code",
   "execution_count": 1,
   "metadata": {},
   "outputs": [],
   "source": [
    "import pandas as pd\n",
    "import numpy as np\n",
    "from datetime import datetime"
   ]
  },
  {
   "cell_type": "code",
   "execution_count": 2,
   "metadata": {},
   "outputs": [],
   "source": [
    "production = [12.66, 11.74, 11.04,11.13,11.36,10.21,11.01,4.97,6.46,9.66,9.89,\n",
    "              9.84,8.27,8.47,8.45,8.04,7.99,8.55,7.70,7.60,4.76,7.74,8.17,8.06]\n"
   ]
  },
  {
   "cell_type": "markdown",
   "metadata": {},
   "source": [
    "## Task 1. Transform de list into a Pandas series with a time series index. "
   ]
  },
  {
   "cell_type": "code",
   "execution_count": 3,
   "metadata": {},
   "outputs": [
    {
     "data": {
      "text/plain": [
       "2019-01-31    12.66\n",
       "2019-02-28    11.74\n",
       "2019-03-31    11.04\n",
       "2019-04-30    11.13\n",
       "2019-05-31    11.36\n",
       "2019-06-30    10.21\n",
       "2019-07-31    11.01\n",
       "2019-08-31     4.97\n",
       "2019-09-30     6.46\n",
       "2019-10-31     9.66\n",
       "2019-11-30     9.89\n",
       "2019-12-31     9.84\n",
       "2020-01-31     8.27\n",
       "2020-02-29     8.47\n",
       "2020-03-31     8.45\n",
       "2020-04-30     8.04\n",
       "2020-05-31     7.99\n",
       "2020-06-30     8.55\n",
       "2020-07-31     7.70\n",
       "2020-08-31     7.60\n",
       "2020-09-30     4.76\n",
       "2020-10-31     7.74\n",
       "2020-11-30     8.17\n",
       "2020-12-31     8.06\n",
       "Freq: M, dtype: float64"
      ]
     },
     "execution_count": 3,
     "metadata": {},
     "output_type": "execute_result"
    }
   ],
   "source": [
    "# Hints pd.Series, pd.date_range\n",
    "series = pd.Series(data=production, \n",
    "                   index=pd.date_range(start=datetime(2019, 1, 31), \n",
    "                                       end=datetime(2020, 12, 31), \n",
    "                                       freq='1M'))\n",
    "series"
   ]
  },
  {
   "cell_type": "markdown",
   "metadata": {},
   "source": [
    "## Task 2. Calculate total monthly production and plot"
   ]
  },
  {
   "cell_type": "code",
   "execution_count": 4,
   "metadata": {},
   "outputs": [
    {
     "data": {
      "text/html": [
       "<div>\n",
       "<style scoped>\n",
       "    .dataframe tbody tr th:only-of-type {\n",
       "        vertical-align: middle;\n",
       "    }\n",
       "\n",
       "    .dataframe tbody tr th {\n",
       "        vertical-align: top;\n",
       "    }\n",
       "\n",
       "    .dataframe thead th {\n",
       "        text-align: right;\n",
       "    }\n",
       "</style>\n",
       "<table border=\"1\" class=\"dataframe\">\n",
       "  <thead>\n",
       "    <tr style=\"text-align: right;\">\n",
       "      <th></th>\n",
       "      <th>0</th>\n",
       "    </tr>\n",
       "  </thead>\n",
       "  <tbody>\n",
       "    <tr>\n",
       "      <th>2019-01-31</th>\n",
       "      <td>392.46</td>\n",
       "    </tr>\n",
       "    <tr>\n",
       "      <th>2019-02-28</th>\n",
       "      <td>328.72</td>\n",
       "    </tr>\n",
       "    <tr>\n",
       "      <th>2019-03-31</th>\n",
       "      <td>342.24</td>\n",
       "    </tr>\n",
       "    <tr>\n",
       "      <th>2019-04-30</th>\n",
       "      <td>333.90</td>\n",
       "    </tr>\n",
       "    <tr>\n",
       "      <th>2019-05-31</th>\n",
       "      <td>352.16</td>\n",
       "    </tr>\n",
       "    <tr>\n",
       "      <th>2019-06-30</th>\n",
       "      <td>306.30</td>\n",
       "    </tr>\n",
       "    <tr>\n",
       "      <th>2019-07-31</th>\n",
       "      <td>341.31</td>\n",
       "    </tr>\n",
       "    <tr>\n",
       "      <th>2019-08-31</th>\n",
       "      <td>154.07</td>\n",
       "    </tr>\n",
       "    <tr>\n",
       "      <th>2019-09-30</th>\n",
       "      <td>193.80</td>\n",
       "    </tr>\n",
       "    <tr>\n",
       "      <th>2019-10-31</th>\n",
       "      <td>299.46</td>\n",
       "    </tr>\n",
       "    <tr>\n",
       "      <th>2019-11-30</th>\n",
       "      <td>296.70</td>\n",
       "    </tr>\n",
       "    <tr>\n",
       "      <th>2019-12-31</th>\n",
       "      <td>305.04</td>\n",
       "    </tr>\n",
       "    <tr>\n",
       "      <th>2020-01-31</th>\n",
       "      <td>256.37</td>\n",
       "    </tr>\n",
       "    <tr>\n",
       "      <th>2020-02-29</th>\n",
       "      <td>245.63</td>\n",
       "    </tr>\n",
       "    <tr>\n",
       "      <th>2020-03-31</th>\n",
       "      <td>261.95</td>\n",
       "    </tr>\n",
       "    <tr>\n",
       "      <th>2020-04-30</th>\n",
       "      <td>241.20</td>\n",
       "    </tr>\n",
       "    <tr>\n",
       "      <th>2020-05-31</th>\n",
       "      <td>247.69</td>\n",
       "    </tr>\n",
       "    <tr>\n",
       "      <th>2020-06-30</th>\n",
       "      <td>256.50</td>\n",
       "    </tr>\n",
       "    <tr>\n",
       "      <th>2020-07-31</th>\n",
       "      <td>238.70</td>\n",
       "    </tr>\n",
       "    <tr>\n",
       "      <th>2020-08-31</th>\n",
       "      <td>235.60</td>\n",
       "    </tr>\n",
       "    <tr>\n",
       "      <th>2020-09-30</th>\n",
       "      <td>142.80</td>\n",
       "    </tr>\n",
       "    <tr>\n",
       "      <th>2020-10-31</th>\n",
       "      <td>239.94</td>\n",
       "    </tr>\n",
       "    <tr>\n",
       "      <th>2020-11-30</th>\n",
       "      <td>245.10</td>\n",
       "    </tr>\n",
       "    <tr>\n",
       "      <th>2020-12-31</th>\n",
       "      <td>249.86</td>\n",
       "    </tr>\n",
       "  </tbody>\n",
       "</table>\n",
       "</div>"
      ],
      "text/plain": [
       "                 0\n",
       "2019-01-31  392.46\n",
       "2019-02-28  328.72\n",
       "2019-03-31  342.24\n",
       "2019-04-30  333.90\n",
       "2019-05-31  352.16\n",
       "2019-06-30  306.30\n",
       "2019-07-31  341.31\n",
       "2019-08-31  154.07\n",
       "2019-09-30  193.80\n",
       "2019-10-31  299.46\n",
       "2019-11-30  296.70\n",
       "2019-12-31  305.04\n",
       "2020-01-31  256.37\n",
       "2020-02-29  245.63\n",
       "2020-03-31  261.95\n",
       "2020-04-30  241.20\n",
       "2020-05-31  247.69\n",
       "2020-06-30  256.50\n",
       "2020-07-31  238.70\n",
       "2020-08-31  235.60\n",
       "2020-09-30  142.80\n",
       "2020-10-31  239.94\n",
       "2020-11-30  245.10\n",
       "2020-12-31  249.86"
      ]
     },
     "execution_count": 4,
     "metadata": {},
     "output_type": "execute_result"
    },
    {
     "data": {
      "image/png": "[encoded data removed]",
      "text/plain": [
       "<Figure size 432x288 with 1 Axes>"
      ]
     },
     "metadata": {
      "needs_background": "light"
     },
     "output_type": "display_data"
    }
   ],
   "source": [
    "# Hint: days_in_month method\n",
    "series_monthly_usage = pd.DataFrame(series).apply(lambda x: x.index.days_in_month * x)\n",
    "series_monthly_usage.plot()\n",
    "series_monthly_usage"
   ]
  },
  {
   "cell_type": "markdown",
   "metadata": {},
   "source": [
    "## Task 3. Calculate annual production and plot"
   ]
  },
  {
   "cell_type": "code",
   "execution_count": 5,
   "metadata": {},
   "outputs": [
    {
     "data": {
      "text/html": [
       "<div>\n",
       "<style scoped>\n",
       "    .dataframe tbody tr th:only-of-type {\n",
       "        vertical-align: middle;\n",
       "    }\n",
       "\n",
       "    .dataframe tbody tr th {\n",
       "        vertical-align: top;\n",
       "    }\n",
       "\n",
       "    .dataframe thead th {\n",
       "        text-align: right;\n",
       "    }\n",
       "</style>\n",
       "<table border=\"1\" class=\"dataframe\">\n",
       "  <thead>\n",
       "    <tr style=\"text-align: right;\">\n",
       "      <th></th>\n",
       "      <th>0</th>\n",
       "    </tr>\n",
       "  </thead>\n",
       "  <tbody>\n",
       "    <tr>\n",
       "      <th>2019-12-31</th>\n",
       "      <td>3646.16</td>\n",
       "    </tr>\n",
       "    <tr>\n",
       "      <th>2020-12-31</th>\n",
       "      <td>2861.34</td>\n",
       "    </tr>\n",
       "  </tbody>\n",
       "</table>\n",
       "</div>"
      ],
      "text/plain": [
       "                  0\n",
       "2019-12-31  3646.16\n",
       "2020-12-31  2861.34"
      ]
     },
     "execution_count": 5,
     "metadata": {},
     "output_type": "execute_result"
    }
   ],
   "source": [
    "# Hint: years method, and pd.DataFrame, pd.groupby\n",
    "series_monthly_usage.groupby(pd.Grouper(freq='1Y')).sum()"
   ]
  },
  {
   "cell_type": "markdown",
   "metadata": {},
   "source": [
    "# Bonus challenge: parse date times\n",
    "\n",
    "It is common for analysts to receive data with different time formats. Pandas has powerful tools to parse complex dates. \n",
    "Try the next ones."
   ]
  },
  {
   "cell_type": "code",
   "execution_count": 6,
   "metadata": {},
   "outputs": [],
   "source": [
    "# pd.to_datetime, mind your format options\n",
    "dates1 = ['15/03/18', '21/05/18'] #day, month, year\n",
    "dates2 = ['15/18/03 23:11:05', '21/18/05 12:05:06'] #day, year, month, hour (24hrs), min, seconds "
   ]
  },
  {
   "cell_type": "code",
   "execution_count": 7,
   "metadata": {},
   "outputs": [
    {
     "data": {
      "text/plain": [
       "DatetimeIndex(['2018-03-15', '2018-05-21'], dtype='datetime64[ns]', freq=None)"
      ]
     },
     "execution_count": 7,
     "metadata": {},
     "output_type": "execute_result"
    }
   ],
   "source": [
    "pd.to_datetime(dates1, format='%d/%m/%y')"
   ]
  },
  {
   "cell_type": "code",
   "execution_count": 8,
   "metadata": {},
   "outputs": [
    {
     "data": {
      "text/plain": [
       "DatetimeIndex(['2018-03-15 23:11:05', '2018-05-21 12:05:06'], dtype='datetime64[ns]', freq=None)"
      ]
     },
     "execution_count": 8,
     "metadata": {},
     "output_type": "execute_result"
    }
   ],
   "source": [
    "pd.to_datetime(dates2, format='%d/%y/%m %H:%M:%S')"
   ]
  },
  {
   "cell_type": "code",
   "execution_count": null,
   "metadata": {},
   "outputs": [],
   "source": []
  }
 ],
 "metadata": {
  "kernelspec": {
   "display_name": "Python 3",
   "language": "python",
   "name": "python3"
  },
  "language_info": {
   "codemirror_mode": {
    "name": "ipython",
    "version": 3
   },
   "file_extension": ".py",
   "mimetype": "text/x-python",
   "name": "python",
   "nbconvert_exporter": "python",
   "pygments_lexer": "ipython3",
   "version": "3.8.8"
  }
 },
 "nbformat": 4,
 "nbformat_minor": 4
}
