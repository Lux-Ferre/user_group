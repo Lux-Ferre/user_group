{
 "cells": [
  {
   "cell_type": "markdown",
   "metadata": {},
   "source": [
    "# Challenge 1 - Basic Time Series\n",
    "\n",
    "\n",
    "Time series manipulation is perhaps one of the most dreaded and brain-braking data munging activities. We need good tools to facilitate our jobs. \n",
    "\n",
    "In this challenge you will try to perform some basic data analysis and manipulations that require working with time series. Python, especially through Pandas, has great time series funcionality.\n",
    "\n",
    "Instead of having a filled notebook where you (and me) can look at the answers I will first let you try to complete the challenge on your own. After you give it a go I will guide you through showing you my thought process and how I would solve some of the issues. This challenge will also be a test of how good you are at reading documentation. "
   ]
  },
  {
   "cell_type": "markdown",
   "metadata": {},
   "source": [
    "## Objective\n",
    "\n",
    "* Calculate the monthly and annual total oil production from the Alba field in the North Sea.\n",
    "\n",
    "### Data\n",
    "\n",
    "In the following cell you will find a list with monthly oil production in **thousand barrels per day** for **Jan 2019 to Dec 2020** for the ALBA field. Two years worht of data. Each data point is recorded by months end.\n",
    "\n",
    "* Source https://data-ogauthority.opendata.arcgis.com/pages/production"
   ]
  },
  {
   "cell_type": "code",
   "execution_count": 1,
   "metadata": {},
   "outputs": [],
   "source": [
    "import pandas as pd\n",
    "import numpy as np\n",
    "from datetime import datetime"
   ]
  },
  {
   "cell_type": "code",
   "execution_count": 2,
   "metadata": {},
   "outputs": [],
   "source": [
    "production = [12.66, 11.74, 11.04,11.13,11.36,10.21,11.01,4.97,6.46,9.66,9.89,\n",
    "              9.84,8.27,8.47,8.45,8.04,7.99,8.55,7.70,7.60,4.76,7.74,8.17,8.06]\n"
   ]
  },
  {
   "cell_type": "markdown",
   "metadata": {},
   "source": [
    "## Task 1. Transform de list into a Pandas series with a time series index. "
   ]
  },
  {
   "cell_type": "code",
   "execution_count": 3,
   "metadata": {},
   "outputs": [
    {
     "data": {
      "text/plain": [
       "2019-01-31    12.66\n",
       "2019-02-28    11.74\n",
       "2019-03-31    11.04\n",
       "2019-04-30    11.13\n",
       "2019-05-31    11.36\n",
       "2019-06-30    10.21\n",
       "2019-07-31    11.01\n",
       "2019-08-31     4.97\n",
       "2019-09-30     6.46\n",
       "2019-10-31     9.66\n",
       "2019-11-30     9.89\n",
       "2019-12-31     9.84\n",
       "2020-01-31     8.27\n",
       "2020-02-29     8.47\n",
       "2020-03-31     8.45\n",
       "2020-04-30     8.04\n",
       "2020-05-31     7.99\n",
       "2020-06-30     8.55\n",
       "2020-07-31     7.70\n",
       "2020-08-31     7.60\n",
       "2020-09-30     4.76\n",
       "2020-10-31     7.74\n",
       "2020-11-30     8.17\n",
       "2020-12-31     8.06\n",
       "Freq: M, dtype: float64"
      ]
     },
     "execution_count": 3,
     "metadata": {},
     "output_type": "execute_result"
    }
   ],
   "source": [
    "# Hints pd.Series, pd.date_range\n",
    "series = pd.Series(data=production, \n",
    "                   index=pd.date_range(start=datetime(2019, 1, 31), \n",
    "                                       end=datetime(2020, 12, 31), \n",
    "                                       freq='1M'))\n",
    "series"
   ]
  },
  {
   "cell_type": "markdown",
   "metadata": {},
   "source": [
    "## Task 2. Calculate total monthly production and plot"
   ]
  },
  {
   "cell_type": "code",
   "execution_count": 4,
   "metadata": {},
   "outputs": [
    {
     "data": {
      "text/plain": [
       "<AxesSubplot:>"
      ]
     },
     "execution_count": 4,
     "metadata": {},
     "output_type": "execute_result"
    },
    {
     "data": {
      "image/png": "[encoded data removed]",
      "text/plain": [
       "<Figure size 432x288 with 1 Axes>"
      ]
     },
     "metadata": {
      "needs_background": "light"
     },
     "output_type": "display_data"
    }
   ],
   "source": [
    "# Hint: days_in_month method\n",
    "series_monthly_usage = pd.DataFrame(series).apply(lambda x: x.index.days_in_month * x.iloc[0])\n",
    "series_monthly_usage.plot()"
   ]
  },
  {
   "cell_type": "markdown",
   "metadata": {},
   "source": [
    "## Task 3. Calculate annual production and plot"
   ]
  },
  {
   "cell_type": "code",
   "execution_count": 5,
   "metadata": {},
   "outputs": [
    {
     "data": {
      "text/plain": [
       "2019-12-31    119.97\n",
       "2020-12-31     93.80\n",
       "Freq: A-DEC, dtype: float64"
      ]
     },
     "execution_count": 5,
     "metadata": {},
     "output_type": "execute_result"
    }
   ],
   "source": [
    "# Hint: years method, and pd.DataFrame, pd.groupby\n",
    "series.groupby(pd.Grouper(freq='1Y')).sum()"
   ]
  },
  {
   "cell_type": "markdown",
   "metadata": {},
   "source": [
    "# Bonus challenge: parse date times\n",
    "\n",
    "It is common for analysts to receive data with different time formats. Pandas has powerful tools to parse complex dates. \n",
    "Try the next ones."
   ]
  },
  {
   "cell_type": "code",
   "execution_count": 6,
   "metadata": {},
   "outputs": [],
   "source": [
    "# pd.to_datetime, mind your format options\n",
    "dates1 = ['15/03/18', '21/05/18'] #day, month, year\n",
    "dates2 = ['15/18/03 23:11:05', '21/18/05 12:05:06'] #day, year, month, hour (24hrs), min, seconds "
   ]
  },
  {
   "cell_type": "code",
   "execution_count": 7,
   "metadata": {},
   "outputs": [
    {
     "data": {
      "text/plain": [
       "DatetimeIndex(['2018-03-15', '2018-05-21'], dtype='datetime64[ns]', freq=None)"
      ]
     },
     "execution_count": 7,
     "metadata": {},
     "output_type": "execute_result"
    }
   ],
   "source": [
    "pd.to_datetime(dates1, format='%d/%m/%y')"
   ]
  },
  {
   "cell_type": "code",
   "execution_count": 8,
   "metadata": {},
   "outputs": [
    {
     "data": {
      "text/plain": [
       "DatetimeIndex(['2018-03-15 23:11:05', '2018-05-21 12:05:06'], dtype='datetime64[ns]', freq=None)"
      ]
     },
     "execution_count": 8,
     "metadata": {},
     "output_type": "execute_result"
    }
   ],
   "source": [
    "pd.to_datetime(dates2, format='%d/%y/%m %H:%M:%S')"
   ]
  },
  {
   "cell_type": "code",
   "execution_count": null,
   "metadata": {},
   "outputs": [],
   "source": []
  }
 ],
 "metadata": {
  "kernelspec": {
   "display_name": "Python 3",
   "language": "python",
   "name": "python3"
  },
  "language_info": {
   "codemirror_mode": {
    "name": "ipython",
    "version": 3
   },
   "file_extension": ".py",
   "mimetype": "text/x-python",
   "name": "python",
   "nbconvert_exporter": "python",
   "pygments_lexer": "ipython3",
   "version": "3.8.8"
  }
 },
 "nbformat": 4,
 "nbformat_minor": 4
}
