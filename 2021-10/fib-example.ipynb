{
 "cells": [
  {
   "cell_type": "raw",
   "id": "99f20fa4-b6ff-4c57-af6f-00d874d7ee39",
   "metadata": {},
   "source": [
    "1, 1, 2, 3, 5, 8, 13, 21, 34, 55 ..."
   ]
  },
  {
   "cell_type": "code",
   "execution_count": null,
   "id": "84a6b400-7881-4b24-bb27-0dabcc6c9dd1",
   "metadata": {},
   "outputs": [],
   "source": [
    "from functools import lru_cache"
   ]
  },
  {
   "cell_type": "code",
   "execution_count": null,
   "id": "61097d80-3e6c-4fb7-95e4-241b247511d2",
   "metadata": {},
   "outputs": [],
   "source": [
    "@lru_cache(maxsize=None)\n",
    "def fib(n):\n",
    "    if n < 3:\n",
    "        return 1\n",
    "    return fib(n-1) + fib(n-2)"
   ]
  },
  {
   "cell_type": "code",
   "execution_count": null,
   "id": "89da7c09-a5df-4740-ab9a-96cd18826f78",
   "metadata": {},
   "outputs": [],
   "source": [
    "fib(1000)"
   ]
  },
  {
   "cell_type": "code",
   "execution_count": null,
   "id": "7ffea01d-dc54-4656-ad22-d4fadec25a45",
   "metadata": {},
   "outputs": [],
   "source": [
    "def fib2(n):\n",
    "    if n < 3:\n",
    "        return 1\n",
    "    two_ago, prev = 1, 1\n",
    "    for i in range(3, n+1):\n",
    "        two_ago, prev = prev, two_ago + prev\n",
    "    return prev"
   ]
  },
  {
   "cell_type": "code",
   "execution_count": null,
   "id": "5e6cd69e-372a-4d6b-995d-b90602df2231",
   "metadata": {},
   "outputs": [],
   "source": [
    "fib2(1000)"
   ]
  }
 ],
 "metadata": {
  "kernelspec": {
   "display_name": "Python 3",
   "language": "python",
   "name": "python3"
  },
  "language_info": {
   "codemirror_mode": {
    "name": "ipython",
    "version": 3
   },
   "file_extension": ".py",
   "mimetype": "text/x-python",
   "name": "python",
   "nbconvert_exporter": "python",
   "pygments_lexer": "ipython3",
   "version": "3.8.8"
  }
 },
 "nbformat": 4,
 "nbformat_minor": 5
}
